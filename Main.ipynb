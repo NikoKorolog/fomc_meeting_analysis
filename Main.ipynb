{
 "cells": [
  {
   "cell_type": "code",
   "execution_count": 44,
   "id": "b5972d05-2c87-4416-b4ee-52b1ecbe19a6",
   "metadata": {},
   "outputs": [],
   "source": [
    "import pandas as pd\n",
    "import hvplot.pandas\n",
    "from pathlib import Path\n",
    "%matplotlib inline\n",
    "%store -r dates_FOMC\n",
    "from datetime import timedelta"
   ]
  },
  {
   "cell_type": "code",
   "execution_count": 45,
   "id": "2a5f0180-c840-4903-a567-41169c216238",
   "metadata": {},
   "outputs": [
    {
     "data": {
      "text/plain": [
       "Timestamp('2021-01-27 00:00:00')"
      ]
     },
     "execution_count": 45,
     "metadata": {},
     "output_type": "execute_result"
    }
   ],
   "source": [
    "dates_FOMC = dates_FOMC.sort_values()\n",
    "dates_FOMC[38]"
   ]
  },
  {
   "cell_type": "code",
   "execution_count": 46,
   "id": "c888b9d7-ccb9-420c-886e-48c80f9f63a6",
   "metadata": {},
   "outputs": [
    {
     "data": {
      "text/html": [
       "<div>\n",
       "<style scoped>\n",
       "    .dataframe tbody tr th:only-of-type {\n",
       "        vertical-align: middle;\n",
       "    }\n",
       "\n",
       "    .dataframe tbody tr th {\n",
       "        vertical-align: top;\n",
       "    }\n",
       "\n",
       "    .dataframe thead th {\n",
       "        text-align: right;\n",
       "    }\n",
       "</style>\n",
       "<table border=\"1\" class=\"dataframe\">\n",
       "  <thead>\n",
       "    <tr style=\"text-align: right;\">\n",
       "      <th></th>\n",
       "      <th>OPEN</th>\n",
       "      <th>HIGH</th>\n",
       "      <th>LOW</th>\n",
       "      <th>CLOSE</th>\n",
       "    </tr>\n",
       "    <tr>\n",
       "      <th>DATE</th>\n",
       "      <th></th>\n",
       "      <th></th>\n",
       "      <th></th>\n",
       "      <th></th>\n",
       "    </tr>\n",
       "  </thead>\n",
       "  <tbody>\n",
       "    <tr>\n",
       "      <th>1990-01-02</th>\n",
       "      <td>17.24</td>\n",
       "      <td>17.24</td>\n",
       "      <td>17.24</td>\n",
       "      <td>17.24</td>\n",
       "    </tr>\n",
       "    <tr>\n",
       "      <th>1990-01-03</th>\n",
       "      <td>18.19</td>\n",
       "      <td>18.19</td>\n",
       "      <td>18.19</td>\n",
       "      <td>18.19</td>\n",
       "    </tr>\n",
       "    <tr>\n",
       "      <th>1990-01-04</th>\n",
       "      <td>19.22</td>\n",
       "      <td>19.22</td>\n",
       "      <td>19.22</td>\n",
       "      <td>19.22</td>\n",
       "    </tr>\n",
       "    <tr>\n",
       "      <th>1990-01-05</th>\n",
       "      <td>20.11</td>\n",
       "      <td>20.11</td>\n",
       "      <td>20.11</td>\n",
       "      <td>20.11</td>\n",
       "    </tr>\n",
       "    <tr>\n",
       "      <th>1990-01-08</th>\n",
       "      <td>20.26</td>\n",
       "      <td>20.26</td>\n",
       "      <td>20.26</td>\n",
       "      <td>20.26</td>\n",
       "    </tr>\n",
       "  </tbody>\n",
       "</table>\n",
       "</div>"
      ],
      "text/plain": [
       "             OPEN   HIGH    LOW  CLOSE\n",
       "DATE                                  \n",
       "1990-01-02  17.24  17.24  17.24  17.24\n",
       "1990-01-03  18.19  18.19  18.19  18.19\n",
       "1990-01-04  19.22  19.22  19.22  19.22\n",
       "1990-01-05  20.11  20.11  20.11  20.11\n",
       "1990-01-08  20.26  20.26  20.26  20.26"
      ]
     },
     "execution_count": 46,
     "metadata": {},
     "output_type": "execute_result"
    }
   ],
   "source": [
    "path = Path('VIX_History.csv')\n",
    "vix_df = pd.read_csv(path, index_col = 'DATE', parse_dates = True, infer_datetime_format = True)\n",
    "vix_df.head()"
   ]
  },
  {
   "cell_type": "code",
   "execution_count": null,
   "id": "e3f729a5-82b3-4f5b-bfe4-de3e87f04a62",
   "metadata": {},
   "outputs": [],
   "source": []
  },
  {
   "cell_type": "code",
   "execution_count": 47,
   "id": "51585ee9-1a9f-44d8-af2d-93d02d4720d7",
   "metadata": {},
   "outputs": [
    {
     "data": {
      "text/html": [
       "<div>\n",
       "<style scoped>\n",
       "    .dataframe tbody tr th:only-of-type {\n",
       "        vertical-align: middle;\n",
       "    }\n",
       "\n",
       "    .dataframe tbody tr th {\n",
       "        vertical-align: top;\n",
       "    }\n",
       "\n",
       "    .dataframe thead th {\n",
       "        text-align: right;\n",
       "    }\n",
       "</style>\n",
       "<table border=\"1\" class=\"dataframe\">\n",
       "  <thead>\n",
       "    <tr style=\"text-align: right;\">\n",
       "      <th></th>\n",
       "      <th>CLOSE</th>\n",
       "    </tr>\n",
       "    <tr>\n",
       "      <th>DATE</th>\n",
       "      <th></th>\n",
       "    </tr>\n",
       "  </thead>\n",
       "  <tbody>\n",
       "    <tr>\n",
       "      <th>2017-01-03</th>\n",
       "      <td>12.85</td>\n",
       "    </tr>\n",
       "    <tr>\n",
       "      <th>2017-01-04</th>\n",
       "      <td>11.85</td>\n",
       "    </tr>\n",
       "    <tr>\n",
       "      <th>2017-01-05</th>\n",
       "      <td>11.67</td>\n",
       "    </tr>\n",
       "    <tr>\n",
       "      <th>2017-01-06</th>\n",
       "      <td>11.32</td>\n",
       "    </tr>\n",
       "    <tr>\n",
       "      <th>2017-01-09</th>\n",
       "      <td>11.56</td>\n",
       "    </tr>\n",
       "  </tbody>\n",
       "</table>\n",
       "</div>"
      ],
      "text/plain": [
       "            CLOSE\n",
       "DATE             \n",
       "2017-01-03  12.85\n",
       "2017-01-04  11.85\n",
       "2017-01-05  11.67\n",
       "2017-01-06  11.32\n",
       "2017-01-09  11.56"
      ]
     },
     "execution_count": 47,
     "metadata": {},
     "output_type": "execute_result"
    }
   ],
   "source": [
    "vix_smaller_df = pd.DataFrame(vix_df.loc['2017-01-01':'2022-05-05'].iloc[:,3])\n",
    "\n",
    "dates_FOMC_df = pd.DataFrame(dates_FOMC)\n",
    "\n",
    "vix_smaller_df.head()\n",
    "# for date in dates_FOMC:\n",
    "#     dates_FOMC.index(\n",
    "    "
   ]
  },
  {
   "cell_type": "code",
   "execution_count": 48,
   "id": "f25ad312-785d-44ac-b2fa-10d40b2a7edb",
   "metadata": {},
   "outputs": [],
   "source": [
    "def date_bump_down(date):\n",
    "    if date.dayofweek == 0:\n",
    "        date_down = date - timedelta(days = 3)\n",
    "    else:\n",
    "        date_down = date - timedelta(days = 1)\n",
    "    return date_down\n",
    "\n",
    "def date_bump_up(date):\n",
    "    if date.dayofweek == 4:\n",
    "        date_up = date + timedelta(days = 3)\n",
    "    else:\n",
    "        date_up = date + timedelta(days = 1)\n",
    "    return date_up"
   ]
  },
  {
   "cell_type": "code",
   "execution_count": 49,
   "id": "eb2d25cd-6fba-4293-a720-7235e7552cc8",
   "metadata": {},
   "outputs": [
    {
     "name": "stdout",
     "output_type": "stream",
     "text": [
      "49\n",
      "49\n",
      "49\n"
     ]
    },
    {
     "data": {},
     "metadata": {},
     "output_type": "display_data"
    },
    {
     "data": {
      "application/vnd.holoviews_exec.v0+json": "",
      "text/html": [
       "<div id='2900'>\n",
       "\n",
       "\n",
       "\n",
       "\n",
       "\n",
       "  <div class=\"bk-root\" id=\"b534ee32-b52f-463d-b0b9-30fc4f8b7b88\" data-root-id=\"2900\"></div>\n",
       "</div>\n",
       "<script type=\"application/javascript\">(function(root) {\n",
       "  function embed_document(root) {\n",
       "    var docs_json = {\"5f719416-7cc3-41e9-aafe-0a3c687a4d8c\":{\"defs\":[{\"extends\":null,\"module\":null,\"name\":\"ReactiveHTML1\",\"overrides\":[],\"properties\":[]},{\"extends\":null,\"module\":null,\"name\":\"FlexBox1\",\"overrides\":[],\"properties\":[{\"default\":\"flex-start\",\"kind\":null,\"name\":\"align_content\"},{\"default\":\"flex-start\",\"kind\":null,\"name\":\"align_items\"},{\"default\":\"row\",\"kind\":null,\"name\":\"flex_direction\"},{\"default\":\"wrap\",\"kind\":null,\"name\":\"flex_wrap\"},{\"default\":\"flex-start\",\"kind\":null,\"name\":\"justify_content\"}]},{\"extends\":null,\"module\":null,\"name\":\"TemplateActions1\",\"overrides\":[],\"properties\":[{\"default\":0,\"kind\":null,\"name\":\"open_modal\"},{\"default\":0,\"kind\":null,\"name\":\"close_modal\"}]},{\"extends\":null,\"module\":null,\"name\":\"MaterialTemplateActions1\",\"overrides\":[],\"properties\":[{\"default\":0,\"kind\":null,\"name\":\"open_modal\"},{\"default\":0,\"kind\":null,\"name\":\"close_modal\"}]}],\"roots\":{\"references\":[{\"attributes\":{\"line_alpha\":0.1,\"line_color\":\"#e5ae38\",\"line_width\":2,\"x\":{\"field\":\"index\"},\"y\":{\"field\":\"0\"}},\"id\":\"2990\",\"type\":\"Line\"},{\"attributes\":{\"line_color\":\"#30a2da\",\"line_width\":2,\"x\":{\"field\":\"index\"},\"y\":{\"field\":\"mean\"}},\"id\":\"2963\",\"type\":\"Line\"},{\"attributes\":{},\"id\":\"2958\",\"type\":\"UnionRenderers\"},{\"attributes\":{},\"id\":\"2941\",\"type\":\"BasicTickFormatter\"},{\"attributes\":{\"margin\":[5,5,5,5],\"name\":\"HSpacer04843\",\"sizing_mode\":\"stretch_width\"},\"id\":\"2901\",\"type\":\"Spacer\"},{\"attributes\":{},\"id\":\"2914\",\"type\":\"LinearScale\"},{\"attributes\":{\"line_alpha\":0.1,\"line_color\":\"#30a2da\",\"line_width\":2,\"x\":{\"field\":\"index\"},\"y\":{\"field\":\"mean\"}},\"id\":\"2947\",\"type\":\"Line\"},{\"attributes\":{\"data\":{\"0\":{\"__ndarray__\":\"1GvkQhyJHEC4PctO9oMdQAoMSGo7tR9A\",\"dtype\":\"float64\",\"order\":\"little\",\"shape\":[3]},\"A_0\":{\"__ndarray__\":\"1GvkQhyJHEC4PctO9oMdQAoMSGo7tR9A\",\"dtype\":\"float64\",\"order\":\"little\",\"shape\":[3]},\"index\":[\"before\",\"day of\",\"after\"]},\"selected\":{\"id\":\"2965\"},\"selection_policy\":{\"id\":\"2981\"}},\"id\":\"2964\",\"type\":\"ColumnDataSource\"},{\"attributes\":{\"data\":{\"0\":{\"__ndarray__\":\"ihqgBzQkQ0A3FN44XLhCQJ22Tm3zjEJA\",\"dtype\":\"float64\",\"order\":\"little\",\"shape\":[3]},\"A_0\":{\"__ndarray__\":\"ihqgBzQkQ0A3FN44XLhCQJ22Tm3zjEJA\",\"dtype\":\"float64\",\"order\":\"little\",\"shape\":[3]},\"index\":[\"before\",\"day of\",\"after\"]},\"selected\":{\"id\":\"2987\"},\"selection_policy\":{\"id\":\"3005\"}},\"id\":\"2986\",\"type\":\"ColumnDataSource\"},{\"attributes\":{\"callback\":null,\"renderers\":[{\"id\":\"2949\"}],\"tags\":[\"hv_created\"],\"tooltips\":[[\"index\",\"@{index}\"],[\"mean\",\"@{mean}\"]]},\"id\":\"2904\",\"type\":\"HoverTool\"},{\"attributes\":{},\"id\":\"2944\",\"type\":\"Selection\"},{\"attributes\":{\"end\":41.39773191831017,\"reset_end\":41.39773191831017,\"reset_start\":4.019002775567373,\"start\":4.019002775567373,\"tags\":[[[\"mean\",\"mean\",null]]]},\"id\":\"2903\",\"type\":\"Range1d\"},{\"attributes\":{\"bottom_units\":\"screen\",\"coordinates\":null,\"fill_alpha\":0.5,\"fill_color\":\"lightgrey\",\"group\":null,\"left_units\":\"screen\",\"level\":\"overlay\",\"line_alpha\":1.0,\"line_color\":\"black\",\"line_dash\":[4,4],\"line_width\":2,\"right_units\":\"screen\",\"syncable\":false,\"top_units\":\"screen\"},\"id\":\"2928\",\"type\":\"BoxAnnotation\"},{\"attributes\":{\"axis\":{\"id\":\"2916\"},\"coordinates\":null,\"grid_line_color\":null,\"group\":null,\"ticker\":null},\"id\":\"2918\",\"type\":\"Grid\"},{\"attributes\":{\"axis_label\":\"\",\"coordinates\":null,\"formatter\":{\"id\":\"2938\"},\"group\":null,\"major_label_policy\":{\"id\":\"2939\"},\"ticker\":{\"id\":\"2917\"}},\"id\":\"2916\",\"type\":\"CategoricalAxis\"},{\"attributes\":{},\"id\":\"2942\",\"type\":\"AllLabels\"},{\"attributes\":{\"coordinates\":null,\"group\":null,\"text_color\":\"black\",\"text_font_size\":\"12pt\"},\"id\":\"2908\",\"type\":\"Title\"},{\"attributes\":{\"line_alpha\":0.2,\"line_color\":\"#fc4f30\",\"line_width\":2,\"x\":{\"field\":\"index\"},\"y\":{\"field\":\"0\"}},\"id\":\"2969\",\"type\":\"Line\"},{\"attributes\":{\"line_color\":\"#fc4f30\",\"line_width\":2,\"x\":{\"field\":\"index\"},\"y\":{\"field\":\"0\"}},\"id\":\"2985\",\"type\":\"Line\"},{\"attributes\":{\"label\":{\"value\":\"0\"},\"renderers\":[{\"id\":\"2970\"},{\"id\":\"2992\"}]},\"id\":\"2984\",\"type\":\"LegendItem\"},{\"attributes\":{\"coordinates\":null,\"data_source\":{\"id\":\"2964\"},\"glyph\":{\"id\":\"2967\"},\"group\":null,\"hover_glyph\":null,\"muted_glyph\":{\"id\":\"2969\"},\"nonselection_glyph\":{\"id\":\"2968\"},\"selection_glyph\":{\"id\":\"2985\"},\"view\":{\"id\":\"2971\"}},\"id\":\"2970\",\"type\":\"GlyphRenderer\"},{\"attributes\":{},\"id\":\"2925\",\"type\":\"WheelZoomTool\"},{\"attributes\":{\"axis\":{\"id\":\"2919\"},\"coordinates\":null,\"dimension\":1,\"grid_line_color\":null,\"group\":null,\"ticker\":null},\"id\":\"2922\",\"type\":\"Grid\"},{\"attributes\":{},\"id\":\"2938\",\"type\":\"CategoricalTickFormatter\"},{\"attributes\":{},\"id\":\"2924\",\"type\":\"PanTool\"},{\"attributes\":{\"source\":{\"id\":\"2964\"}},\"id\":\"2971\",\"type\":\"CDSView\"},{\"attributes\":{},\"id\":\"2920\",\"type\":\"BasicTicker\"},{\"attributes\":{\"line_alpha\":0.2,\"line_color\":\"#30a2da\",\"line_width\":2,\"x\":{\"field\":\"index\"},\"y\":{\"field\":\"mean\"}},\"id\":\"2948\",\"type\":\"Line\"},{\"attributes\":{},\"id\":\"2917\",\"type\":\"CategoricalTicker\"},{\"attributes\":{\"axis_label\":\"\",\"coordinates\":null,\"formatter\":{\"id\":\"2941\"},\"group\":null,\"major_label_policy\":{\"id\":\"2942\"},\"ticker\":{\"id\":\"2920\"}},\"id\":\"2919\",\"type\":\"LinearAxis\"},{\"attributes\":{\"line_color\":\"#30a2da\",\"line_width\":2,\"x\":{\"field\":\"index\"},\"y\":{\"field\":\"mean\"}},\"id\":\"2946\",\"type\":\"Line\"},{\"attributes\":{},\"id\":\"2939\",\"type\":\"AllLabels\"},{\"attributes\":{\"label\":{\"value\":\"mean\"},\"renderers\":[{\"id\":\"2949\"}]},\"id\":\"2962\",\"type\":\"LegendItem\"},{\"attributes\":{},\"id\":\"2981\",\"type\":\"UnionRenderers\"},{\"attributes\":{},\"id\":\"2965\",\"type\":\"Selection\"},{\"attributes\":{},\"id\":\"2923\",\"type\":\"SaveTool\"},{\"attributes\":{\"source\":{\"id\":\"2943\"}},\"id\":\"2950\",\"type\":\"CDSView\"},{\"attributes\":{},\"id\":\"3005\",\"type\":\"UnionRenderers\"},{\"attributes\":{\"overlay\":{\"id\":\"2928\"}},\"id\":\"2926\",\"type\":\"BoxZoomTool\"},{\"attributes\":{\"line_alpha\":0.2,\"line_color\":\"#e5ae38\",\"line_width\":2,\"x\":{\"field\":\"index\"},\"y\":{\"field\":\"0\"}},\"id\":\"2991\",\"type\":\"Line\"},{\"attributes\":{\"callback\":null,\"renderers\":[{\"id\":\"2970\"},{\"id\":\"2992\"}],\"tags\":[\"hv_created\"],\"tooltips\":[[\"index\",\"@{index}\"],[\"0\",\"@{A_0}\"]]},\"id\":\"2905\",\"type\":\"HoverTool\"},{\"attributes\":{},\"id\":\"2927\",\"type\":\"ResetTool\"},{\"attributes\":{\"margin\":[5,5,5,5],\"name\":\"HSpacer04844\",\"sizing_mode\":\"stretch_width\"},\"id\":\"3135\",\"type\":\"Spacer\"},{\"attributes\":{\"line_color\":\"#fc4f30\",\"line_width\":2,\"x\":{\"field\":\"index\"},\"y\":{\"field\":\"0\"}},\"id\":\"2967\",\"type\":\"Line\"},{\"attributes\":{\"coordinates\":null,\"data_source\":{\"id\":\"2986\"},\"glyph\":{\"id\":\"2989\"},\"group\":null,\"hover_glyph\":null,\"muted_glyph\":{\"id\":\"2991\"},\"nonselection_glyph\":{\"id\":\"2990\"},\"selection_glyph\":{\"id\":\"3008\"},\"view\":{\"id\":\"2993\"}},\"id\":\"2992\",\"type\":\"GlyphRenderer\"},{\"attributes\":{\"line_alpha\":0.1,\"line_color\":\"#fc4f30\",\"line_width\":2,\"x\":{\"field\":\"index\"},\"y\":{\"field\":\"0\"}},\"id\":\"2968\",\"type\":\"Line\"},{\"attributes\":{\"click_policy\":\"mute\",\"coordinates\":null,\"group\":null,\"items\":[{\"id\":\"2962\"},{\"id\":\"2984\"}]},\"id\":\"2961\",\"type\":\"Legend\"},{\"attributes\":{},\"id\":\"2912\",\"type\":\"CategoricalScale\"},{\"attributes\":{\"source\":{\"id\":\"2986\"}},\"id\":\"2993\",\"type\":\"CDSView\"},{\"attributes\":{\"line_color\":\"#e5ae38\",\"line_width\":2,\"x\":{\"field\":\"index\"},\"y\":{\"field\":\"0\"}},\"id\":\"3008\",\"type\":\"Line\"},{\"attributes\":{},\"id\":\"2987\",\"type\":\"Selection\"},{\"attributes\":{\"coordinates\":null,\"data_source\":{\"id\":\"2943\"},\"glyph\":{\"id\":\"2946\"},\"group\":null,\"hover_glyph\":null,\"muted_glyph\":{\"id\":\"2948\"},\"nonselection_glyph\":{\"id\":\"2947\"},\"selection_glyph\":{\"id\":\"2963\"},\"view\":{\"id\":\"2950\"}},\"id\":\"2949\",\"type\":\"GlyphRenderer\"},{\"attributes\":{\"factors\":[\"before\",\"day of\",\"after\"],\"tags\":[[[\"index\",\"index\",null]]]},\"id\":\"2902\",\"type\":\"FactorRange\"},{\"attributes\":{\"below\":[{\"id\":\"2916\"}],\"center\":[{\"id\":\"2918\"},{\"id\":\"2922\"},{\"id\":\"2961\"}],\"height\":300,\"left\":[{\"id\":\"2919\"}],\"margin\":[5,5,5,5],\"min_border_bottom\":10,\"min_border_left\":10,\"min_border_right\":10,\"min_border_top\":10,\"renderers\":[{\"id\":\"2949\"},{\"id\":\"2970\"},{\"id\":\"2992\"}],\"sizing_mode\":\"fixed\",\"title\":{\"id\":\"2908\"},\"toolbar\":{\"id\":\"2929\"},\"width\":700,\"x_range\":{\"id\":\"2902\"},\"x_scale\":{\"id\":\"2912\"},\"y_range\":{\"id\":\"2903\"},\"y_scale\":{\"id\":\"2914\"}},\"id\":\"2907\",\"subtype\":\"Figure\",\"type\":\"Plot\"},{\"attributes\":{\"tools\":[{\"id\":\"2904\"},{\"id\":\"2905\"},{\"id\":\"2923\"},{\"id\":\"2924\"},{\"id\":\"2925\"},{\"id\":\"2926\"},{\"id\":\"2927\"}]},\"id\":\"2929\",\"type\":\"Toolbar\"},{\"attributes\":{\"children\":[{\"id\":\"2901\"},{\"id\":\"2907\"},{\"id\":\"3135\"}],\"margin\":[0,0,0,0],\"name\":\"Row04839\",\"tags\":[\"embedded\"]},\"id\":\"2900\",\"type\":\"Row\"},{\"attributes\":{\"data\":{\"index\":[\"before\",\"day of\",\"after\"],\"mean\":{\"__ndarray__\":\"Baj8j1e1NkDue7cC22g2QB64l9qagzZA\",\"dtype\":\"float64\",\"order\":\"little\",\"shape\":[3]}},\"selected\":{\"id\":\"2944\"},\"selection_policy\":{\"id\":\"2958\"}},\"id\":\"2943\",\"type\":\"ColumnDataSource\"},{\"attributes\":{\"line_color\":\"#e5ae38\",\"line_width\":2,\"x\":{\"field\":\"index\"},\"y\":{\"field\":\"0\"}},\"id\":\"2989\",\"type\":\"Line\"}],\"root_ids\":[\"2900\"]},\"title\":\"Bokeh Application\",\"version\":\"2.4.2\"}};\n",
       "    var render_items = [{\"docid\":\"5f719416-7cc3-41e9-aafe-0a3c687a4d8c\",\"root_ids\":[\"2900\"],\"roots\":{\"2900\":\"b534ee32-b52f-463d-b0b9-30fc4f8b7b88\"}}];\n",
       "    root.Bokeh.embed.embed_items_notebook(docs_json, render_items);\n",
       "  }\n",
       "  if (root.Bokeh !== undefined && root.Bokeh.Panel !== undefined) {\n",
       "    embed_document(root);\n",
       "  } else {\n",
       "    var attempts = 0;\n",
       "    var timer = setInterval(function(root) {\n",
       "      if (root.Bokeh !== undefined && root.Bokeh.Panel !== undefined) {\n",
       "        clearInterval(timer);\n",
       "        embed_document(root);\n",
       "      } else if (document.readyState == \"complete\") {\n",
       "        attempts++;\n",
       "        if (attempts > 200) {\n",
       "          clearInterval(timer);\n",
       "          console.log(\"Bokeh: ERROR: Unable to run BokehJS code because BokehJS library is missing\");\n",
       "        }\n",
       "      }\n",
       "    }, 25, root)\n",
       "  }\n",
       "})(window);</script>"
      ],
      "text/plain": [
       ":Overlay\n",
       "   .Curve.Mean   :Curve   [index]   (mean)\n",
       "   .Curve.A_0.I  :Curve   [index]   (0)\n",
       "   .Curve.A_0.II :Curve   [index]   (0)"
      ]
     },
     "execution_count": 49,
     "metadata": {
      "application/vnd.holoviews_exec.v0+json": {
       "id": "2900"
      }
     },
     "output_type": "execute_result"
    }
   ],
   "source": [
    "b4 = []\n",
    "dayof = []\n",
    "after = []\n",
    "\n",
    "for date in dates_FOMC:\n",
    "    b4.append(vix_smaller_df.loc[date_bump_down(date),'CLOSE'])\n",
    "    dayof.append(vix_smaller_df.loc[date,'CLOSE'])\n",
    "    after.append(vix_smaller_df.loc[date_bump_up(date),'CLOSE'])\n",
    "    \n",
    "print(len(b4)) \n",
    "print(len(dayof))\n",
    "print(len(after))\n",
    "d = {'before': b4, 'day of': dayof, 'after': after}\n",
    "\n",
    "trend = pd.DataFrame(d)\n",
    "trendy = trend.describe(include='all')\n",
    "trend_mean = trendy.iloc[1,:]\n",
    "trend_5 = trendy.iloc[1,:] - 1 * trendy.iloc[2,:]\n",
    "trend_95 = trendy.iloc[1,:] + 1 * trendy.iloc[2,:]\n",
    "trendy\n",
    "#trend_mean.hvplot()\n",
    "# find a way to normalize the data here\n",
    "trend_mean.hvplot()*trend_5.hvplot()*trend_95.hvplot()"
   ]
  },
  {
   "cell_type": "code",
   "execution_count": 65,
   "id": "c19579b7-f098-410d-8dd6-715e4092b34b",
   "metadata": {},
   "outputs": [
    {
     "data": {
      "text/plain": [
       "[-0.005004170141784862,\n",
       " -0.08861788617886177,\n",
       " -0.012275731822473938,\n",
       " 0.04606525911708258]"
      ]
     },
     "execution_count": 65,
     "metadata": {},
     "output_type": "execute_result"
    }
   ],
   "source": [
    "vix_change_wide = []\n",
    "for date in dates_FOMC:\n",
    "    change = (vix_smaller_df.loc[date_bump_up(date),'CLOSE'] - vix_smaller_df.loc[date_bump_down(date),'CLOSE'])/vix_smaller_df.loc[date_bump_down(date),'CLOSE']\n",
    "    vix_change_wide.append(change)\n",
    "\n",
    "vix_change_wide[:4]\n",
    "# vix_change_wide_df = pd.DataFrame(vix_change_wide, )\n",
    "# vix_change_wide_df"
   ]
  },
  {
   "cell_type": "code",
   "execution_count": 51,
   "id": "14fa274c-9f35-48ca-9593-b8bdad399f6a",
   "metadata": {},
   "outputs": [
    {
     "data": {
      "text/plain": [
       "DATE\n",
       "1990-01-02    17.24\n",
       "1990-01-03    18.19\n",
       "1990-01-04    19.22\n",
       "1990-01-05    20.11\n",
       "1990-01-08    20.26\n",
       "              ...  \n",
       "2022-05-03    31.76\n",
       "2022-05-04    29.12\n",
       "2022-05-05    25.97\n",
       "2022-05-06    32.23\n",
       "2022-05-09    31.90\n",
       "Name: OPEN, Length: 8148, dtype: float64"
      ]
     },
     "execution_count": 51,
     "metadata": {},
     "output_type": "execute_result"
    }
   ],
   "source": [
    "vix_df.iloc[:,0]"
   ]
  },
  {
   "cell_type": "code",
   "execution_count": 64,
   "id": "140e1b33-de70-4c47-9e40-2306540261be",
   "metadata": {},
   "outputs": [
    {
     "data": {
      "text/plain": [
       "[0.0016934801016089203,\n",
       " -0.04213241616509015,\n",
       " 0.011235955056179702,\n",
       " 0.029135338345864705]"
      ]
     },
     "execution_count": 64,
     "metadata": {},
     "output_type": "execute_result"
    }
   ],
   "source": [
    "vix_change = []\n",
    "for date in dates_FOMC:\n",
    "    change = (vix_df.iloc[:,3].loc[date] - vix_df.iloc[:,0].loc[date])/vix_df.iloc[:,3].loc[date]\n",
    "    vix_change.append(change)\n",
    "vix_change[:4]"
   ]
  },
  {
   "cell_type": "code",
   "execution_count": 53,
   "id": "05a888cf-291a-4e24-a563-ca41057f14da",
   "metadata": {},
   "outputs": [
    {
     "data": {
      "text/plain": [
       "Int64Index([2, 2, 2, 2, 2, 2, 2, 2, 2, 2, 2, 2, 2, 2, 3, 2, 2, 2, 2, 2, 2, 2,\n",
       "            4, 2, 2, 2, 1, 2, 3, 0, 1, 2, 2, 2, 3, 2, 3, 2, 2, 2, 2, 2, 2, 2,\n",
       "            2, 2, 2, 2, 2],\n",
       "           dtype='int64')"
      ]
     },
     "execution_count": 53,
     "metadata": {},
     "output_type": "execute_result"
    }
   ],
   "source": [
    "dates_FOMC.weekday"
   ]
  },
  {
   "cell_type": "code",
   "execution_count": 54,
   "id": "44cefb06-fd9f-4bde-8850-89294945480b",
   "metadata": {},
   "outputs": [
    {
     "data": {
      "text/html": [
       "<div>\n",
       "<style scoped>\n",
       "    .dataframe tbody tr th:only-of-type {\n",
       "        vertical-align: middle;\n",
       "    }\n",
       "\n",
       "    .dataframe tbody tr th {\n",
       "        vertical-align: top;\n",
       "    }\n",
       "\n",
       "    .dataframe thead th {\n",
       "        text-align: right;\n",
       "    }\n",
       "</style>\n",
       "<table border=\"1\" class=\"dataframe\">\n",
       "  <thead>\n",
       "    <tr style=\"text-align: right;\">\n",
       "      <th></th>\n",
       "      <th>0</th>\n",
       "    </tr>\n",
       "  </thead>\n",
       "  <tbody>\n",
       "    <tr>\n",
       "      <th>0</th>\n",
       "      <td>0.001693</td>\n",
       "    </tr>\n",
       "    <tr>\n",
       "      <th>1</th>\n",
       "      <td>-0.042132</td>\n",
       "    </tr>\n",
       "    <tr>\n",
       "      <th>2</th>\n",
       "      <td>0.011236</td>\n",
       "    </tr>\n",
       "    <tr>\n",
       "      <th>3</th>\n",
       "      <td>0.029135</td>\n",
       "    </tr>\n",
       "    <tr>\n",
       "      <th>4</th>\n",
       "      <td>0.036458</td>\n",
       "    </tr>\n",
       "  </tbody>\n",
       "</table>\n",
       "</div>"
      ],
      "text/plain": [
       "          0\n",
       "0  0.001693\n",
       "1 -0.042132\n",
       "2  0.011236\n",
       "3  0.029135\n",
       "4  0.036458"
      ]
     },
     "metadata": {},
     "output_type": "display_data"
    },
    {
     "data": {
      "text/html": [
       "<div>\n",
       "<style scoped>\n",
       "    .dataframe tbody tr th:only-of-type {\n",
       "        vertical-align: middle;\n",
       "    }\n",
       "\n",
       "    .dataframe tbody tr th {\n",
       "        vertical-align: top;\n",
       "    }\n",
       "\n",
       "    .dataframe thead th {\n",
       "        text-align: right;\n",
       "    }\n",
       "</style>\n",
       "<table border=\"1\" class=\"dataframe\">\n",
       "  <thead>\n",
       "    <tr style=\"text-align: right;\">\n",
       "      <th></th>\n",
       "      <th>0</th>\n",
       "    </tr>\n",
       "  </thead>\n",
       "  <tbody>\n",
       "    <tr>\n",
       "      <th>count</th>\n",
       "      <td>49.000000</td>\n",
       "    </tr>\n",
       "    <tr>\n",
       "      <th>mean</th>\n",
       "      <td>-0.003449</td>\n",
       "    </tr>\n",
       "    <tr>\n",
       "      <th>std</th>\n",
       "      <td>0.088812</td>\n",
       "    </tr>\n",
       "    <tr>\n",
       "      <th>min</th>\n",
       "      <td>-0.202793</td>\n",
       "    </tr>\n",
       "    <tr>\n",
       "      <th>25%</th>\n",
       "      <td>-0.050960</td>\n",
       "    </tr>\n",
       "    <tr>\n",
       "      <th>50%</th>\n",
       "      <td>0.000725</td>\n",
       "    </tr>\n",
       "    <tr>\n",
       "      <th>75%</th>\n",
       "      <td>0.039293</td>\n",
       "    </tr>\n",
       "    <tr>\n",
       "      <th>max</th>\n",
       "      <td>0.359850</td>\n",
       "    </tr>\n",
       "  </tbody>\n",
       "</table>\n",
       "</div>"
      ],
      "text/plain": [
       "               0\n",
       "count  49.000000\n",
       "mean   -0.003449\n",
       "std     0.088812\n",
       "min    -0.202793\n",
       "25%    -0.050960\n",
       "50%     0.000725\n",
       "75%     0.039293\n",
       "max     0.359850"
      ]
     },
     "execution_count": 54,
     "metadata": {},
     "output_type": "execute_result"
    }
   ],
   "source": [
    "vix_change_df = pd.DataFrame(vix_change)\n",
    "vix_change_wide_df = pd.DataFrame(vix_change_wide)\n",
    "display(vix_change_df.head())\n",
    "vix_change_df.describe()"
   ]
  },
  {
   "cell_type": "code",
   "execution_count": 63,
   "id": "2475aed3-4be1-4442-9055-35c27ec60c34",
   "metadata": {},
   "outputs": [
    {
     "data": {
      "text/html": [
       "<div>\n",
       "<style scoped>\n",
       "    .dataframe tbody tr th:only-of-type {\n",
       "        vertical-align: middle;\n",
       "    }\n",
       "\n",
       "    .dataframe tbody tr th {\n",
       "        vertical-align: top;\n",
       "    }\n",
       "\n",
       "    .dataframe thead th {\n",
       "        text-align: right;\n",
       "    }\n",
       "</style>\n",
       "<table border=\"1\" class=\"dataframe\">\n",
       "  <thead>\n",
       "    <tr style=\"text-align: right;\">\n",
       "      <th></th>\n",
       "      <th>Cumulative return</th>\n",
       "    </tr>\n",
       "    <tr>\n",
       "      <th>Date</th>\n",
       "      <th></th>\n",
       "    </tr>\n",
       "  </thead>\n",
       "  <tbody>\n",
       "    <tr>\n",
       "      <th>2017-02-01</th>\n",
       "      <td>0.994996</td>\n",
       "    </tr>\n",
       "    <tr>\n",
       "      <th>2017-03-15</th>\n",
       "      <td>0.906821</td>\n",
       "    </tr>\n",
       "    <tr>\n",
       "      <th>2017-05-03</th>\n",
       "      <td>0.895690</td>\n",
       "    </tr>\n",
       "    <tr>\n",
       "      <th>2017-06-14</th>\n",
       "      <td>0.936950</td>\n",
       "    </tr>\n",
       "    <tr>\n",
       "      <th>2017-07-26</th>\n",
       "      <td>1.004513</td>\n",
       "    </tr>\n",
       "  </tbody>\n",
       "</table>\n",
       "</div>"
      ],
      "text/plain": [
       "            Cumulative return\n",
       "Date                         \n",
       "2017-02-01           0.994996\n",
       "2017-03-15           0.906821\n",
       "2017-05-03           0.895690\n",
       "2017-06-14           0.936950\n",
       "2017-07-26           1.004513"
      ]
     },
     "execution_count": 63,
     "metadata": {},
     "output_type": "execute_result"
    }
   ],
   "source": [
    "sum = (vix_change_df.iloc[:,0] + 1).cumprod()\n",
    "sum_df = pd.DataFrame(sum)\n",
    "sum_df.rename(columns = {0:'Cumulative return'}, inplace = True)\n",
    "sum_df['Date'] = dates_FOMC\n",
    "sum_df.set_index('Date', inplace = True)\n",
    "sum_df\n",
    "\n",
    "sum_wide = (vix_change_wide_df.iloc[:,0] + 1).cumprod()\n",
    "sum_wide_df = pd.DataFrame(sum_wide)\n",
    "sum_wide_df.rename(columns = {0:'Cumulative return'}, inplace = True)\n",
    "sum_wide_df['Date'] = dates_FOMC\n",
    "sum_wide_df.set_index('Date', inplace = True)\n",
    "sum_wide_df.head()"
   ]
  },
  {
   "cell_type": "code",
   "execution_count": 56,
   "id": "f6afd8bb-1573-410a-9fef-200367bc718a",
   "metadata": {},
   "outputs": [
    {
     "data": {
      "text/html": [
       "<div>\n",
       "<style scoped>\n",
       "    .dataframe tbody tr th:only-of-type {\n",
       "        vertical-align: middle;\n",
       "    }\n",
       "\n",
       "    .dataframe tbody tr th {\n",
       "        vertical-align: top;\n",
       "    }\n",
       "\n",
       "    .dataframe thead th {\n",
       "        text-align: right;\n",
       "    }\n",
       "</style>\n",
       "<table border=\"1\" class=\"dataframe\">\n",
       "  <thead>\n",
       "    <tr style=\"text-align: right;\">\n",
       "      <th></th>\n",
       "      <th>Cumulative return</th>\n",
       "    </tr>\n",
       "  </thead>\n",
       "  <tbody>\n",
       "    <tr>\n",
       "      <th>count</th>\n",
       "      <td>49.000000</td>\n",
       "    </tr>\n",
       "    <tr>\n",
       "      <th>mean</th>\n",
       "      <td>1.076943</td>\n",
       "    </tr>\n",
       "    <tr>\n",
       "      <th>std</th>\n",
       "      <td>0.142464</td>\n",
       "    </tr>\n",
       "    <tr>\n",
       "      <th>min</th>\n",
       "      <td>0.809694</td>\n",
       "    </tr>\n",
       "    <tr>\n",
       "      <th>25%</th>\n",
       "      <td>1.001693</td>\n",
       "    </tr>\n",
       "    <tr>\n",
       "      <th>50%</th>\n",
       "      <td>1.088889</td>\n",
       "    </tr>\n",
       "    <tr>\n",
       "      <th>75%</th>\n",
       "      <td>1.180830</td>\n",
       "    </tr>\n",
       "    <tr>\n",
       "      <th>max</th>\n",
       "      <td>1.433129</td>\n",
       "    </tr>\n",
       "  </tbody>\n",
       "</table>\n",
       "</div>"
      ],
      "text/plain": [
       "       Cumulative return\n",
       "count          49.000000\n",
       "mean            1.076943\n",
       "std             0.142464\n",
       "min             0.809694\n",
       "25%             1.001693\n",
       "50%             1.088889\n",
       "75%             1.180830\n",
       "max             1.433129"
      ]
     },
     "execution_count": 56,
     "metadata": {},
     "output_type": "execute_result"
    }
   ],
   "source": [
    "test2 = sum_df.sample(n=sum_df.shape[0], replace=True)\n",
    "test2.describe()"
   ]
  },
  {
   "cell_type": "code",
   "execution_count": 57,
   "id": "d5be8ac5-329a-4f94-bfd5-4ee5d42aaa66",
   "metadata": {},
   "outputs": [
    {
     "data": {},
     "metadata": {},
     "output_type": "display_data"
    },
    {
     "data": {
      "application/vnd.holoviews_exec.v0+json": "",
      "text/html": [
       "<div id='3207'>\n",
       "\n",
       "\n",
       "\n",
       "\n",
       "\n",
       "  <div class=\"bk-root\" id=\"88d7f5c6-4f74-4e6f-8d8a-1ec62cc54d4b\" data-root-id=\"3207\"></div>\n",
       "</div>\n",
       "<script type=\"application/javascript\">(function(root) {\n",
       "  function embed_document(root) {\n",
       "    var docs_json = {\"aaa4888f-99e3-4538-8237-bccb110463b5\":{\"defs\":[{\"extends\":null,\"module\":null,\"name\":\"ReactiveHTML1\",\"overrides\":[],\"properties\":[]},{\"extends\":null,\"module\":null,\"name\":\"FlexBox1\",\"overrides\":[],\"properties\":[{\"default\":\"flex-start\",\"kind\":null,\"name\":\"align_content\"},{\"default\":\"flex-start\",\"kind\":null,\"name\":\"align_items\"},{\"default\":\"row\",\"kind\":null,\"name\":\"flex_direction\"},{\"default\":\"wrap\",\"kind\":null,\"name\":\"flex_wrap\"},{\"default\":\"flex-start\",\"kind\":null,\"name\":\"justify_content\"}]},{\"extends\":null,\"module\":null,\"name\":\"TemplateActions1\",\"overrides\":[],\"properties\":[{\"default\":0,\"kind\":null,\"name\":\"open_modal\"},{\"default\":0,\"kind\":null,\"name\":\"close_modal\"}]},{\"extends\":null,\"module\":null,\"name\":\"MaterialTemplateActions1\",\"overrides\":[],\"properties\":[{\"default\":0,\"kind\":null,\"name\":\"open_modal\"},{\"default\":0,\"kind\":null,\"name\":\"close_modal\"}]}],\"roots\":{\"references\":[{\"attributes\":{\"axis\":{\"id\":\"3222\"},\"coordinates\":null,\"grid_line_color\":null,\"group\":null,\"ticker\":null},\"id\":\"3225\",\"type\":\"Grid\"},{\"attributes\":{},\"id\":\"3250\",\"type\":\"Selection\"},{\"attributes\":{\"source\":{\"id\":\"3258\"}},\"id\":\"3265\",\"type\":\"CDSView\"},{\"attributes\":{\"coordinates\":null,\"data_source\":{\"id\":\"3258\"},\"glyph\":{\"id\":\"3261\"},\"group\":null,\"hover_glyph\":null,\"muted_glyph\":{\"id\":\"3263\"},\"nonselection_glyph\":{\"id\":\"3262\"},\"selection_glyph\":{\"id\":\"3266\"},\"view\":{\"id\":\"3265\"}},\"id\":\"3264\",\"type\":\"GlyphRenderer\"},{\"attributes\":{\"end\":1651622400000.0,\"reset_end\":1651622400000.0,\"reset_start\":1485907200000.0,\"start\":1485907200000.0,\"tags\":[[[\"Date\",\"Date\",null]]]},\"id\":\"3209\",\"type\":\"Range1d\"},{\"attributes\":{},\"id\":\"3290\",\"type\":\"YearsTicker\"},{\"attributes\":{\"days\":[1,8,15,22]},\"id\":\"3284\",\"type\":\"DaysTicker\"},{\"attributes\":{},\"id\":\"3220\",\"type\":\"LinearScale\"},{\"attributes\":{\"line_alpha\":0.1,\"line_color\":\"#30a2da\",\"line_width\":2,\"x\":{\"field\":\"Date\"},\"y\":{\"field\":\"Cumulative return\"}},\"id\":\"3253\",\"type\":\"Line\"},{\"attributes\":{\"line_alpha\":0.1,\"line_color\":\"#fc4f30\",\"line_width\":2,\"x\":{\"field\":\"Date\"},\"y\":{\"field\":\"Cumulative return\"}},\"id\":\"3262\",\"type\":\"Line\"},{\"attributes\":{\"end\":1.6578328827065065,\"reset_end\":1.6578328827065065,\"reset_start\":0.616668593498462,\"start\":0.616668593498462,\"tags\":[[[\"Cumulative return\",\"Cumulative return\",null]]]},\"id\":\"3210\",\"type\":\"Range1d\"},{\"attributes\":{\"months\":[0,4,8]},\"id\":\"3288\",\"type\":\"MonthsTicker\"},{\"attributes\":{\"data\":{\"Cumulative return\":{\"__ndarray__\":\"BXIavu8G8D/cc47FI7TuPyyMhLZ0DO8/Dy/Obwn07z8NL0Y5Io/wP/mgbNdvHvA/vfKkr03E8D/juYi09WzxP7Npo/WgifA/VEuaUVWh8D8EFhOD9SPxP23dXl6hNvI/6vjCmudL8j8D7vvv/0LzP59FCSlB4vM/ToFopaWU8z+cTbnjrjTyP6YYUcOnsPI/uuAfR9Uj9T+nhshu6xP0P1fEVScY7vY/AcCulF7Y9T9yzbyNRsvyP7Hl92wWbPE/8ieODYS/8D8hV/dEP3nxP0KHTIaV+/I/G3SWwqC99D+/DPyP8kHyP8PHHeQ1HO0/OfxiaMNl6z/MYAN6CE3qP2JFaqssGus/2S9bjQLp6T/GRfZdoQXrP8GXsMmOx+s/zclx/bbM6z/aAxpEjcnrP7+UaBGu5PI/Kq/NG9wJ8j9kDT2wFdfxPyluobz5+vI/mJlVwxDX8T+aHJ77OELwPzksowClV+4/IySjxXW16j+VlG2e1uPsP59/9lspWOo/6+j7a4SC5j8=\",\"dtype\":\"float64\",\"order\":\"little\",\"shape\":[49]},\"Cumulative_return\":{\"__ndarray__\":\"BXIavu8G8D/cc47FI7TuPyyMhLZ0DO8/Dy/Obwn07z8NL0Y5Io/wP/mgbNdvHvA/vfKkr03E8D/juYi09WzxP7Npo/WgifA/VEuaUVWh8D8EFhOD9SPxP23dXl6hNvI/6vjCmudL8j8D7vvv/0LzP59FCSlB4vM/ToFopaWU8z+cTbnjrjTyP6YYUcOnsPI/uuAfR9Uj9T+nhshu6xP0P1fEVScY7vY/AcCulF7Y9T9yzbyNRsvyP7Hl92wWbPE/8ieODYS/8D8hV/dEP3nxP0KHTIaV+/I/G3SWwqC99D+/DPyP8kHyP8PHHeQ1HO0/OfxiaMNl6z/MYAN6CE3qP2JFaqssGus/2S9bjQLp6T/GRfZdoQXrP8GXsMmOx+s/zclx/bbM6z/aAxpEjcnrP7+UaBGu5PI/Kq/NG9wJ8j9kDT2wFdfxPyluobz5+vI/mJlVwxDX8T+aHJ77OELwPzksowClV+4/IySjxXW16j+VlG2e1uPsP59/9lspWOo/6+j7a4SC5j8=\",\"dtype\":\"float64\",\"order\":\"little\",\"shape\":[49]},\"Date\":{\"__ndarray__\":\"AACAiG+fdUIAAAA69Kx1QgAAwLO5vHVCAABAZT7KdUIAAMAWw9d1QgAAwFjJ6XVCAABACk73dUIAAMC70gR2QgAAgDWYFHZCAABAr10kdkIAAMBg4jF2QgAAQBJnP3ZCAAAAjCxPdkIAAADOMmF2QgAAQOUJb3ZCAAAAMTx8dkIAAIDiwIl2QgAAQFyGmXZCAADADQundkIAAICH0LZ2QgAAADlVxHZCAADAshrUdkIAAMAOQdl2QgAAQGSf4XZCAADAFSTvdkIAAICP6f52QgAAABPbCXdCAABACa8Od0IAAABvAQ93QgAAAAZLEHdCAAAANN4Sd0IAAMC6Mxx3QgAAQGy4KXdCAAAA5n05d0IAAMBs00J3QgAAwF9DSXdCAABAP1tZd0IAAACLjWZ3QgAAgDwSdHdCAABAtteDd0IAAMBnXJF3QgAAgOEhoXdCAAAAk6aud0IAAADVrMB3QgAAgIYxzndCAAAAOLbbd0IAAIDpOul3QgAAQGMA+XdCAAAA3cUIeEI=\",\"dtype\":\"float64\",\"order\":\"little\",\"shape\":[49]}},\"selected\":{\"id\":\"3250\"},\"selection_policy\":{\"id\":\"3274\"}},\"id\":\"3249\",\"type\":\"ColumnDataSource\"},{\"attributes\":{\"axis\":{\"id\":\"3226\"},\"coordinates\":null,\"dimension\":1,\"grid_line_color\":null,\"group\":null,\"ticker\":null},\"id\":\"3229\",\"type\":\"Grid\"},{\"attributes\":{},\"id\":\"3276\",\"type\":\"UnionRenderers\"},{\"attributes\":{\"base\":60,\"mantissas\":[1,2,5,10,15,20,30],\"max_interval\":1800000.0,\"min_interval\":1000.0,\"num_minor_ticks\":0},\"id\":\"3280\",\"type\":\"AdaptiveTicker\"},{\"attributes\":{\"margin\":[5,5,5,5],\"name\":\"HSpacer05471\",\"sizing_mode\":\"stretch_width\"},\"id\":\"3483\",\"type\":\"Spacer\"},{\"attributes\":{},\"id\":\"3244\",\"type\":\"DatetimeTickFormatter\"},{\"attributes\":{\"coordinates\":null,\"group\":null,\"text_color\":\"black\",\"text_font_size\":\"12pt\"},\"id\":\"3214\",\"type\":\"Title\"},{\"attributes\":{\"line_color\":\"#fc4f30\",\"line_width\":2,\"x\":{\"field\":\"Date\"},\"y\":{\"field\":\"Cumulative return\"}},\"id\":\"3261\",\"type\":\"Line\"},{\"attributes\":{\"days\":[1,2,3,4,5,6,7,8,9,10,11,12,13,14,15,16,17,18,19,20,21,22,23,24,25,26,27,28,29,30,31]},\"id\":\"3282\",\"type\":\"DaysTicker\"},{\"attributes\":{\"months\":[0,6]},\"id\":\"3289\",\"type\":\"MonthsTicker\"},{\"attributes\":{},\"id\":\"3245\",\"type\":\"AllLabels\"},{\"attributes\":{\"line_color\":\"#30a2da\",\"line_width\":2,\"x\":{\"field\":\"Date\"},\"y\":{\"field\":\"Cumulative return\"}},\"id\":\"3252\",\"type\":\"Line\"},{\"attributes\":{\"line_alpha\":0.2,\"line_color\":\"#30a2da\",\"line_width\":2,\"x\":{\"field\":\"Date\"},\"y\":{\"field\":\"Cumulative return\"}},\"id\":\"3254\",\"type\":\"Line\"},{\"attributes\":{\"line_color\":\"#fc4f30\",\"line_width\":2,\"x\":{\"field\":\"Date\"},\"y\":{\"field\":\"Cumulative return\"}},\"id\":\"3266\",\"type\":\"Line\"},{\"attributes\":{\"days\":[1,4,7,10,13,16,19,22,25,28]},\"id\":\"3283\",\"type\":\"DaysTicker\"},{\"attributes\":{},\"id\":\"3248\",\"type\":\"AllLabels\"},{\"attributes\":{\"axis_label\":\"Date\",\"coordinates\":null,\"formatter\":{\"id\":\"3244\"},\"group\":null,\"major_label_policy\":{\"id\":\"3245\"},\"ticker\":{\"id\":\"3223\"}},\"id\":\"3222\",\"type\":\"DatetimeAxis\"},{\"attributes\":{},\"id\":\"3259\",\"type\":\"Selection\"},{\"attributes\":{\"line_alpha\":0.2,\"line_color\":\"#fc4f30\",\"line_width\":2,\"x\":{\"field\":\"Date\"},\"y\":{\"field\":\"Cumulative return\"}},\"id\":\"3263\",\"type\":\"Line\"},{\"attributes\":{\"months\":[0,2,4,6,8,10]},\"id\":\"3287\",\"type\":\"MonthsTicker\"},{\"attributes\":{},\"id\":\"3247\",\"type\":\"BasicTickFormatter\"},{\"attributes\":{\"num_minor_ticks\":5,\"tickers\":[{\"id\":\"3279\"},{\"id\":\"3280\"},{\"id\":\"3281\"},{\"id\":\"3282\"},{\"id\":\"3283\"},{\"id\":\"3284\"},{\"id\":\"3285\"},{\"id\":\"3286\"},{\"id\":\"3287\"},{\"id\":\"3288\"},{\"id\":\"3289\"},{\"id\":\"3290\"}]},\"id\":\"3223\",\"type\":\"DatetimeTicker\"},{\"attributes\":{\"callback\":null,\"formatters\":{\"@{Date}\":\"datetime\"},\"renderers\":[{\"id\":\"3255\"},{\"id\":\"3264\"}],\"tags\":[\"hv_created\"],\"tooltips\":[[\"Date\",\"@{Date}{%F %T}\"],[\"Cumulative return\",\"@{Cumulative_return}\"]]},\"id\":\"3211\",\"type\":\"HoverTool\"},{\"attributes\":{\"axis_label\":\"Cumulative return\",\"coordinates\":null,\"formatter\":{\"id\":\"3247\"},\"group\":null,\"major_label_policy\":{\"id\":\"3248\"},\"ticker\":{\"id\":\"3227\"}},\"id\":\"3226\",\"type\":\"LinearAxis\"},{\"attributes\":{\"base\":24,\"mantissas\":[1,2,4,6,8,12],\"max_interval\":43200000.0,\"min_interval\":3600000.0,\"num_minor_ticks\":0},\"id\":\"3281\",\"type\":\"AdaptiveTicker\"},{\"attributes\":{\"days\":[1,15]},\"id\":\"3285\",\"type\":\"DaysTicker\"},{\"attributes\":{\"margin\":[5,5,5,5],\"name\":\"HSpacer05470\",\"sizing_mode\":\"stretch_width\"},\"id\":\"3208\",\"type\":\"Spacer\"},{\"attributes\":{\"months\":[0,1,2,3,4,5,6,7,8,9,10,11]},\"id\":\"3286\",\"type\":\"MonthsTicker\"},{\"attributes\":{},\"id\":\"3231\",\"type\":\"PanTool\"},{\"attributes\":{\"coordinates\":null,\"data_source\":{\"id\":\"3249\"},\"glyph\":{\"id\":\"3252\"},\"group\":null,\"hover_glyph\":null,\"muted_glyph\":{\"id\":\"3254\"},\"nonselection_glyph\":{\"id\":\"3253\"},\"selection_glyph\":{\"id\":\"3257\"},\"view\":{\"id\":\"3256\"}},\"id\":\"3255\",\"type\":\"GlyphRenderer\"},{\"attributes\":{},\"id\":\"3232\",\"type\":\"WheelZoomTool\"},{\"attributes\":{\"mantissas\":[1,2,5],\"max_interval\":500.0,\"num_minor_ticks\":0},\"id\":\"3279\",\"type\":\"AdaptiveTicker\"},{\"attributes\":{\"children\":[{\"id\":\"3208\"},{\"id\":\"3213\"},{\"id\":\"3483\"}],\"margin\":[0,0,0,0],\"name\":\"Row05466\",\"tags\":[\"embedded\"]},\"id\":\"3207\",\"type\":\"Row\"},{\"attributes\":{\"source\":{\"id\":\"3249\"}},\"id\":\"3256\",\"type\":\"CDSView\"},{\"attributes\":{\"below\":[{\"id\":\"3222\"}],\"center\":[{\"id\":\"3225\"},{\"id\":\"3229\"}],\"height\":300,\"left\":[{\"id\":\"3226\"}],\"margin\":[5,5,5,5],\"min_border_bottom\":10,\"min_border_left\":10,\"min_border_right\":10,\"min_border_top\":10,\"renderers\":[{\"id\":\"3255\"},{\"id\":\"3264\"}],\"sizing_mode\":\"fixed\",\"title\":{\"id\":\"3214\"},\"toolbar\":{\"id\":\"3236\"},\"width\":700,\"x_range\":{\"id\":\"3209\"},\"x_scale\":{\"id\":\"3218\"},\"y_range\":{\"id\":\"3210\"},\"y_scale\":{\"id\":\"3220\"}},\"id\":\"3213\",\"subtype\":\"Figure\",\"type\":\"Plot\"},{\"attributes\":{\"line_color\":\"#30a2da\",\"line_width\":2,\"x\":{\"field\":\"Date\"},\"y\":{\"field\":\"Cumulative return\"}},\"id\":\"3257\",\"type\":\"Line\"},{\"attributes\":{},\"id\":\"3218\",\"type\":\"LinearScale\"},{\"attributes\":{},\"id\":\"3227\",\"type\":\"BasicTicker\"},{\"attributes\":{\"data\":{\"Cumulative return\":{\"__ndarray__\":\"nrecfgHX7z/MhHdRrgTtP6wGHwp9qew/7HvJ4n377T/s4YagfBLwP6NLXXS3iO4/Hq4jCMHI7T+cTzi03n7vPyP7YExDr+w/t5BTkZBk8j8PWLC6MeHyPzTUye8Gi/I/rgRSETue8T8qejRsmZrxPwTdBlYQrvI/GGXuz4K59D8pMUVhhfPxP7wyUoQ+C/I/CEXllvHU8z8KTzsk5k7zP4qfvt5pwPg/JBRwGUcV+D+gtewO/X72Pzs4CNm2h/Y/2WgCrqwH9D/ZZ4Cb2Q7zP4PbUBMXPvI/K2ssm4pN8T8sqFeqw+TtP4kcS49d6us/Dk1Pitzn6z8paPPQSWPsP8S2TD0AAPU/2y0dhE1w9D+eo7xFmSr0P5Wo0m4d2vQ/oBu6/NeH8T8C1M/0n8vwPxkEzqKOCvY/nUs6xuwI+D/xe3TScRr4Py4c8nIZI/k/Vi2aW1T79j9enMxhcZPxP6w11SHW7fA/Es07yf/Q7z9Swxey3SHvP3O6Pbtpyuo/nYLs+qOT7D8=\",\"dtype\":\"float64\",\"order\":\"little\",\"shape\":[49]},\"Cumulative_return\":{\"__ndarray__\":\"nrecfgHX7z/MhHdRrgTtP6wGHwp9qew/7HvJ4n377T/s4YagfBLwP6NLXXS3iO4/Hq4jCMHI7T+cTzi03n7vPyP7YExDr+w/t5BTkZBk8j8PWLC6MeHyPzTUye8Gi/I/rgRSETue8T8qejRsmZrxPwTdBlYQrvI/GGXuz4K59D8pMUVhhfPxP7wyUoQ+C/I/CEXllvHU8z8KTzsk5k7zP4qfvt5pwPg/JBRwGUcV+D+gtewO/X72Pzs4CNm2h/Y/2WgCrqwH9D/ZZ4Cb2Q7zP4PbUBMXPvI/K2ssm4pN8T8sqFeqw+TtP4kcS49d6us/Dk1Pitzn6z8paPPQSWPsP8S2TD0AAPU/2y0dhE1w9D+eo7xFmSr0P5Wo0m4d2vQ/oBu6/NeH8T8C1M/0n8vwPxkEzqKOCvY/nUs6xuwI+D/xe3TScRr4Py4c8nIZI/k/Vi2aW1T79j9enMxhcZPxP6w11SHW7fA/Es07yf/Q7z9Swxey3SHvP3O6Pbtpyuo/nYLs+qOT7D8=\",\"dtype\":\"float64\",\"order\":\"little\",\"shape\":[49]},\"Date\":{\"__ndarray__\":\"AACAiG+fdUIAAAA69Kx1QgAAwLO5vHVCAABAZT7KdUIAAMAWw9d1QgAAwFjJ6XVCAABACk73dUIAAMC70gR2QgAAgDWYFHZCAABAr10kdkIAAMBg4jF2QgAAQBJnP3ZCAAAAjCxPdkIAAADOMmF2QgAAQOUJb3ZCAAAAMTx8dkIAAIDiwIl2QgAAQFyGmXZCAADADQundkIAAICH0LZ2QgAAADlVxHZCAADAshrUdkIAAMAOQdl2QgAAQGSf4XZCAADAFSTvdkIAAICP6f52QgAAABPbCXdCAABACa8Od0IAAABvAQ93QgAAAAZLEHdCAAAANN4Sd0IAAMC6Mxx3QgAAQGy4KXdCAAAA5n05d0IAAMBs00J3QgAAwF9DSXdCAABAP1tZd0IAAACLjWZ3QgAAgDwSdHdCAABAtteDd0IAAMBnXJF3QgAAgOEhoXdCAAAAk6aud0IAAADVrMB3QgAAgIYxzndCAAAAOLbbd0IAAIDpOul3QgAAQGMA+XdCAAAA3cUIeEI=\",\"dtype\":\"float64\",\"order\":\"little\",\"shape\":[49]}},\"selected\":{\"id\":\"3259\"},\"selection_policy\":{\"id\":\"3276\"}},\"id\":\"3258\",\"type\":\"ColumnDataSource\"},{\"attributes\":{},\"id\":\"3230\",\"type\":\"SaveTool\"},{\"attributes\":{\"overlay\":{\"id\":\"3235\"}},\"id\":\"3233\",\"type\":\"BoxZoomTool\"},{\"attributes\":{},\"id\":\"3234\",\"type\":\"ResetTool\"},{\"attributes\":{\"bottom_units\":\"screen\",\"coordinates\":null,\"fill_alpha\":0.5,\"fill_color\":\"lightgrey\",\"group\":null,\"left_units\":\"screen\",\"level\":\"overlay\",\"line_alpha\":1.0,\"line_color\":\"black\",\"line_dash\":[4,4],\"line_width\":2,\"right_units\":\"screen\",\"syncable\":false,\"top_units\":\"screen\"},\"id\":\"3235\",\"type\":\"BoxAnnotation\"},{\"attributes\":{\"tools\":[{\"id\":\"3211\"},{\"id\":\"3230\"},{\"id\":\"3231\"},{\"id\":\"3232\"},{\"id\":\"3233\"},{\"id\":\"3234\"}]},\"id\":\"3236\",\"type\":\"Toolbar\"},{\"attributes\":{},\"id\":\"3274\",\"type\":\"UnionRenderers\"}],\"root_ids\":[\"3207\"]},\"title\":\"Bokeh Application\",\"version\":\"2.4.2\"}};\n",
       "    var render_items = [{\"docid\":\"aaa4888f-99e3-4538-8237-bccb110463b5\",\"root_ids\":[\"3207\"],\"roots\":{\"3207\":\"88d7f5c6-4f74-4e6f-8d8a-1ec62cc54d4b\"}}];\n",
       "    root.Bokeh.embed.embed_items_notebook(docs_json, render_items);\n",
       "  }\n",
       "  if (root.Bokeh !== undefined && root.Bokeh.Panel !== undefined) {\n",
       "    embed_document(root);\n",
       "  } else {\n",
       "    var attempts = 0;\n",
       "    var timer = setInterval(function(root) {\n",
       "      if (root.Bokeh !== undefined && root.Bokeh.Panel !== undefined) {\n",
       "        clearInterval(timer);\n",
       "        embed_document(root);\n",
       "      } else if (document.readyState == \"complete\") {\n",
       "        attempts++;\n",
       "        if (attempts > 200) {\n",
       "          clearInterval(timer);\n",
       "          console.log(\"Bokeh: ERROR: Unable to run BokehJS code because BokehJS library is missing\");\n",
       "        }\n",
       "      }\n",
       "    }, 25, root)\n",
       "  }\n",
       "})(window);</script>"
      ],
      "text/plain": [
       ":Overlay\n",
       "   .Curve.I  :Curve   [Date]   (Cumulative return)\n",
       "   .Curve.II :Curve   [Date]   (Cumulative return)"
      ]
     },
     "execution_count": 57,
     "metadata": {
      "application/vnd.holoviews_exec.v0+json": {
       "id": "3207"
      }
     },
     "output_type": "execute_result"
    }
   ],
   "source": [
    "sum_df.hvplot()*sum_wide_df.hvplot()#add legend"
   ]
  },
  {
   "cell_type": "code",
   "execution_count": 58,
   "id": "a4588522-5e20-40cf-9d38-70b501e3cd50",
   "metadata": {},
   "outputs": [
    {
     "data": {},
     "metadata": {},
     "output_type": "display_data"
    },
    {
     "data": {
      "application/vnd.holoviews_exec.v0+json": "",
      "text/html": [
       "<div id='3605'>\n",
       "\n",
       "\n",
       "\n",
       "\n",
       "\n",
       "  <div class=\"bk-root\" id=\"65d14d00-d082-4ae4-823b-e9ee4929c2d3\" data-root-id=\"3605\"></div>\n",
       "</div>\n",
       "<script type=\"application/javascript\">(function(root) {\n",
       "  function embed_document(root) {\n",
       "    var docs_json = {\"d5764035-3309-41fb-91e1-ea2b9f38e765\":{\"defs\":[{\"extends\":null,\"module\":null,\"name\":\"ReactiveHTML1\",\"overrides\":[],\"properties\":[]},{\"extends\":null,\"module\":null,\"name\":\"FlexBox1\",\"overrides\":[],\"properties\":[{\"default\":\"flex-start\",\"kind\":null,\"name\":\"align_content\"},{\"default\":\"flex-start\",\"kind\":null,\"name\":\"align_items\"},{\"default\":\"row\",\"kind\":null,\"name\":\"flex_direction\"},{\"default\":\"wrap\",\"kind\":null,\"name\":\"flex_wrap\"},{\"default\":\"flex-start\",\"kind\":null,\"name\":\"justify_content\"}]},{\"extends\":null,\"module\":null,\"name\":\"TemplateActions1\",\"overrides\":[],\"properties\":[{\"default\":0,\"kind\":null,\"name\":\"open_modal\"},{\"default\":0,\"kind\":null,\"name\":\"close_modal\"}]},{\"extends\":null,\"module\":null,\"name\":\"MaterialTemplateActions1\",\"overrides\":[],\"properties\":[{\"default\":0,\"kind\":null,\"name\":\"open_modal\"},{\"default\":0,\"kind\":null,\"name\":\"close_modal\"}]}],\"roots\":{\"references\":[{\"attributes\":{},\"id\":\"3641\",\"type\":\"Selection\"},{\"attributes\":{\"months\":[0,2,4,6,8,10]},\"id\":\"3673\",\"type\":\"MonthsTicker\"},{\"attributes\":{\"children\":[{\"id\":\"3606\"},{\"id\":\"3610\"},{\"id\":\"3699\"}],\"margin\":[0,0,0,0],\"name\":\"Row05870\",\"tags\":[\"embedded\"]},\"id\":\"3605\",\"type\":\"Row\"},{\"attributes\":{\"line_color\":\"red\",\"line_width\":2,\"x\":{\"field\":\"Date\"},\"y\":{\"field\":\"Cumulative return\"}},\"id\":\"3643\",\"type\":\"Line\"},{\"attributes\":{\"coordinates\":null,\"group\":null,\"text_color\":\"black\",\"text_font_size\":\"12pt\"},\"id\":\"3611\",\"type\":\"Title\"},{\"attributes\":{\"end\":1651622400000.0,\"reset_end\":1651622400000.0,\"reset_start\":1485907200000.0,\"start\":1485907200000.0,\"tags\":[[[\"Date\",\"Date\",null]]]},\"id\":\"3607\",\"type\":\"Range1d\"},{\"attributes\":{\"line_alpha\":0.1,\"line_color\":\"red\",\"line_width\":2,\"x\":{\"field\":\"Date\"},\"y\":{\"field\":\"Cumulative return\"}},\"id\":\"3644\",\"type\":\"Line\"},{\"attributes\":{\"margin\":[5,5,5,5],\"name\":\"HSpacer05875\",\"sizing_mode\":\"stretch_width\"},\"id\":\"3699\",\"type\":\"Spacer\"},{\"attributes\":{\"callback\":null,\"formatters\":{\"@{Date}\":\"datetime\"},\"renderers\":[{\"id\":\"3646\"}],\"tags\":[\"hv_created\"],\"tooltips\":[[\"Date\",\"@{Date}{%F %T}\"],[\"Cumulative return\",\"@{Cumulative_return}\"]]},\"id\":\"3609\",\"type\":\"HoverTool\"},{\"attributes\":{},\"id\":\"3650\",\"type\":\"DatetimeTickFormatter\"},{\"attributes\":{\"axis\":{\"id\":\"3619\"},\"coordinates\":null,\"grid_line_color\":null,\"group\":null,\"ticker\":null},\"id\":\"3622\",\"type\":\"Grid\"},{\"attributes\":{},\"id\":\"3617\",\"type\":\"LinearScale\"},{\"attributes\":{\"end\":1.6444552491540478,\"reset_end\":1.6444552491540478,\"reset_start\":0.7638225625755086,\"start\":0.7638225625755086,\"tags\":[[[\"Cumulative return\",\"Cumulative return\",null]]]},\"id\":\"3608\",\"type\":\"Range1d\"},{\"attributes\":{\"axis_label\":\"Cumulative return\",\"coordinates\":null,\"formatter\":{\"id\":\"3653\"},\"group\":null,\"major_label_policy\":{\"id\":\"3654\"},\"ticker\":{\"id\":\"3624\"}},\"id\":\"3623\",\"type\":\"LinearAxis\"},{\"attributes\":{},\"id\":\"3654\",\"type\":\"AllLabels\"},{\"attributes\":{\"bottom_units\":\"screen\",\"coordinates\":null,\"fill_alpha\":0.5,\"fill_color\":\"lightgrey\",\"group\":null,\"left_units\":\"screen\",\"level\":\"overlay\",\"line_alpha\":1.0,\"line_color\":\"black\",\"line_dash\":[4,4],\"line_width\":2,\"right_units\":\"screen\",\"syncable\":false,\"top_units\":\"screen\"},\"id\":\"3632\",\"type\":\"BoxAnnotation\"},{\"attributes\":{\"tools\":[{\"id\":\"3609\"},{\"id\":\"3627\"},{\"id\":\"3628\"},{\"id\":\"3629\"},{\"id\":\"3630\"},{\"id\":\"3631\"}]},\"id\":\"3633\",\"type\":\"Toolbar\"},{\"attributes\":{\"margin\":[5,5,5,5],\"name\":\"HSpacer05874\",\"sizing_mode\":\"stretch_width\"},\"id\":\"3606\",\"type\":\"Spacer\"},{\"attributes\":{\"line_alpha\":0.2,\"line_color\":\"red\",\"line_width\":2,\"x\":{\"field\":\"Date\"},\"y\":{\"field\":\"Cumulative return\"}},\"id\":\"3645\",\"type\":\"Line\"},{\"attributes\":{},\"id\":\"3629\",\"type\":\"WheelZoomTool\"},{\"attributes\":{\"source\":{\"id\":\"3640\"}},\"id\":\"3647\",\"type\":\"CDSView\"},{\"attributes\":{},\"id\":\"3628\",\"type\":\"PanTool\"},{\"attributes\":{\"axis_label\":\"Date\",\"coordinates\":null,\"formatter\":{\"id\":\"3650\"},\"group\":null,\"major_label_policy\":{\"id\":\"3651\"},\"ticker\":{\"id\":\"3620\"}},\"id\":\"3619\",\"type\":\"DatetimeAxis\"},{\"attributes\":{},\"id\":\"3627\",\"type\":\"SaveTool\"},{\"attributes\":{\"axis\":{\"id\":\"3623\"},\"coordinates\":null,\"dimension\":1,\"grid_line_color\":null,\"group\":null,\"ticker\":null},\"id\":\"3626\",\"type\":\"Grid\"},{\"attributes\":{\"days\":[1,8,15,22]},\"id\":\"3670\",\"type\":\"DaysTicker\"},{\"attributes\":{\"num_minor_ticks\":5,\"tickers\":[{\"id\":\"3665\"},{\"id\":\"3666\"},{\"id\":\"3667\"},{\"id\":\"3668\"},{\"id\":\"3669\"},{\"id\":\"3670\"},{\"id\":\"3671\"},{\"id\":\"3672\"},{\"id\":\"3673\"},{\"id\":\"3674\"},{\"id\":\"3675\"},{\"id\":\"3676\"}]},\"id\":\"3620\",\"type\":\"DatetimeTicker\"},{\"attributes\":{},\"id\":\"3662\",\"type\":\"UnionRenderers\"},{\"attributes\":{\"coordinates\":null,\"data_source\":{\"id\":\"3640\"},\"glyph\":{\"id\":\"3643\"},\"group\":null,\"hover_glyph\":null,\"muted_glyph\":{\"id\":\"3645\"},\"nonselection_glyph\":{\"id\":\"3644\"},\"selection_glyph\":{\"id\":\"3648\"},\"view\":{\"id\":\"3647\"}},\"id\":\"3646\",\"type\":\"GlyphRenderer\"},{\"attributes\":{\"mantissas\":[1,2,5],\"max_interval\":500.0,\"num_minor_ticks\":0},\"id\":\"3665\",\"type\":\"AdaptiveTicker\"},{\"attributes\":{\"base\":60,\"mantissas\":[1,2,5,10,15,20,30],\"max_interval\":1800000.0,\"min_interval\":1000.0,\"num_minor_ticks\":0},\"id\":\"3666\",\"type\":\"AdaptiveTicker\"},{\"attributes\":{},\"id\":\"3615\",\"type\":\"LinearScale\"},{\"attributes\":{\"line_color\":\"red\",\"line_width\":2,\"x\":{\"field\":\"Date\"},\"y\":{\"field\":\"Cumulative return\"}},\"id\":\"3648\",\"type\":\"Line\"},{\"attributes\":{},\"id\":\"3624\",\"type\":\"BasicTicker\"},{\"attributes\":{\"days\":[1,15]},\"id\":\"3671\",\"type\":\"DaysTicker\"},{\"attributes\":{\"months\":[0,6]},\"id\":\"3675\",\"type\":\"MonthsTicker\"},{\"attributes\":{\"overlay\":{\"id\":\"3632\"}},\"id\":\"3630\",\"type\":\"BoxZoomTool\"},{\"attributes\":{},\"id\":\"3631\",\"type\":\"ResetTool\"},{\"attributes\":{},\"id\":\"3651\",\"type\":\"AllLabels\"},{\"attributes\":{\"base\":24,\"mantissas\":[1,2,4,6,8,12],\"max_interval\":43200000.0,\"min_interval\":3600000.0,\"num_minor_ticks\":0},\"id\":\"3667\",\"type\":\"AdaptiveTicker\"},{\"attributes\":{\"days\":[1,2,3,4,5,6,7,8,9,10,11,12,13,14,15,16,17,18,19,20,21,22,23,24,25,26,27,28,29,30,31]},\"id\":\"3668\",\"type\":\"DaysTicker\"},{\"attributes\":{\"months\":[0,1,2,3,4,5,6,7,8,9,10,11]},\"id\":\"3672\",\"type\":\"MonthsTicker\"},{\"attributes\":{},\"id\":\"3653\",\"type\":\"BasicTickFormatter\"},{\"attributes\":{\"data\":{\"Cumulative return\":{\"__ndarray__\":\"nrecfgHX7z/MhHdRrgTtP6wGHwp9qew/7HvJ4n377T/s4YagfBLwP6NLXXS3iO4/Hq4jCMHI7T+cTzi03n7vPyP7YExDr+w/t5BTkZBk8j8PWLC6MeHyPzTUye8Gi/I/rgRSETue8T8qejRsmZrxPwTdBlYQrvI/GGXuz4K59D8pMUVhhfPxP7wyUoQ+C/I/CEXllvHU8z8KTzsk5k7zP4qfvt5pwPg/JBRwGUcV+D+gtewO/X72Pzs4CNm2h/Y/2WgCrqwH9D/ZZ4Cb2Q7zP4PbUBMXPvI/K2ssm4pN8T8sqFeqw+TtP4kcS49d6us/Dk1Pitzn6z8paPPQSWPsP8S2TD0AAPU/2y0dhE1w9D+eo7xFmSr0P5Wo0m4d2vQ/oBu6/NeH8T8C1M/0n8vwPxkEzqKOCvY/nUs6xuwI+D/xe3TScRr4Py4c8nIZI/k/Vi2aW1T79j9enMxhcZPxP6w11SHW7fA/Es07yf/Q7z9Swxey3SHvP3O6Pbtpyuo/nYLs+qOT7D8=\",\"dtype\":\"float64\",\"order\":\"little\",\"shape\":[49]},\"Cumulative_return\":{\"__ndarray__\":\"nrecfgHX7z/MhHdRrgTtP6wGHwp9qew/7HvJ4n377T/s4YagfBLwP6NLXXS3iO4/Hq4jCMHI7T+cTzi03n7vPyP7YExDr+w/t5BTkZBk8j8PWLC6MeHyPzTUye8Gi/I/rgRSETue8T8qejRsmZrxPwTdBlYQrvI/GGXuz4K59D8pMUVhhfPxP7wyUoQ+C/I/CEXllvHU8z8KTzsk5k7zP4qfvt5pwPg/JBRwGUcV+D+gtewO/X72Pzs4CNm2h/Y/2WgCrqwH9D/ZZ4Cb2Q7zP4PbUBMXPvI/K2ssm4pN8T8sqFeqw+TtP4kcS49d6us/Dk1Pitzn6z8paPPQSWPsP8S2TD0AAPU/2y0dhE1w9D+eo7xFmSr0P5Wo0m4d2vQ/oBu6/NeH8T8C1M/0n8vwPxkEzqKOCvY/nUs6xuwI+D/xe3TScRr4Py4c8nIZI/k/Vi2aW1T79j9enMxhcZPxP6w11SHW7fA/Es07yf/Q7z9Swxey3SHvP3O6Pbtpyuo/nYLs+qOT7D8=\",\"dtype\":\"float64\",\"order\":\"little\",\"shape\":[49]},\"Date\":{\"__ndarray__\":\"AACAiG+fdUIAAAA69Kx1QgAAwLO5vHVCAABAZT7KdUIAAMAWw9d1QgAAwFjJ6XVCAABACk73dUIAAMC70gR2QgAAgDWYFHZCAABAr10kdkIAAMBg4jF2QgAAQBJnP3ZCAAAAjCxPdkIAAADOMmF2QgAAQOUJb3ZCAAAAMTx8dkIAAIDiwIl2QgAAQFyGmXZCAADADQundkIAAICH0LZ2QgAAADlVxHZCAADAshrUdkIAAMAOQdl2QgAAQGSf4XZCAADAFSTvdkIAAICP6f52QgAAABPbCXdCAABACa8Od0IAAABvAQ93QgAAAAZLEHdCAAAANN4Sd0IAAMC6Mxx3QgAAQGy4KXdCAAAA5n05d0IAAMBs00J3QgAAwF9DSXdCAABAP1tZd0IAAACLjWZ3QgAAgDwSdHdCAABAtteDd0IAAMBnXJF3QgAAgOEhoXdCAAAAk6aud0IAAADVrMB3QgAAgIYxzndCAAAAOLbbd0IAAIDpOul3QgAAQGMA+XdCAAAA3cUIeEI=\",\"dtype\":\"float64\",\"order\":\"little\",\"shape\":[49]}},\"selected\":{\"id\":\"3641\"},\"selection_policy\":{\"id\":\"3662\"}},\"id\":\"3640\",\"type\":\"ColumnDataSource\"},{\"attributes\":{},\"id\":\"3676\",\"type\":\"YearsTicker\"},{\"attributes\":{\"below\":[{\"id\":\"3619\"}],\"center\":[{\"id\":\"3622\"},{\"id\":\"3626\"}],\"height\":300,\"left\":[{\"id\":\"3623\"}],\"margin\":[5,5,5,5],\"min_border_bottom\":10,\"min_border_left\":10,\"min_border_right\":10,\"min_border_top\":10,\"renderers\":[{\"id\":\"3646\"}],\"sizing_mode\":\"fixed\",\"title\":{\"id\":\"3611\"},\"toolbar\":{\"id\":\"3633\"},\"width\":700,\"x_range\":{\"id\":\"3607\"},\"x_scale\":{\"id\":\"3615\"},\"y_range\":{\"id\":\"3608\"},\"y_scale\":{\"id\":\"3617\"}},\"id\":\"3610\",\"subtype\":\"Figure\",\"type\":\"Plot\"},{\"attributes\":{\"months\":[0,4,8]},\"id\":\"3674\",\"type\":\"MonthsTicker\"},{\"attributes\":{\"days\":[1,4,7,10,13,16,19,22,25,28]},\"id\":\"3669\",\"type\":\"DaysTicker\"}],\"root_ids\":[\"3605\"]},\"title\":\"Bokeh Application\",\"version\":\"2.4.2\"}};\n",
       "    var render_items = [{\"docid\":\"d5764035-3309-41fb-91e1-ea2b9f38e765\",\"root_ids\":[\"3605\"],\"roots\":{\"3605\":\"65d14d00-d082-4ae4-823b-e9ee4929c2d3\"}}];\n",
       "    root.Bokeh.embed.embed_items_notebook(docs_json, render_items);\n",
       "  }\n",
       "  if (root.Bokeh !== undefined && root.Bokeh.Panel !== undefined) {\n",
       "    embed_document(root);\n",
       "  } else {\n",
       "    var attempts = 0;\n",
       "    var timer = setInterval(function(root) {\n",
       "      if (root.Bokeh !== undefined && root.Bokeh.Panel !== undefined) {\n",
       "        clearInterval(timer);\n",
       "        embed_document(root);\n",
       "      } else if (document.readyState == \"complete\") {\n",
       "        attempts++;\n",
       "        if (attempts > 200) {\n",
       "          clearInterval(timer);\n",
       "          console.log(\"Bokeh: ERROR: Unable to run BokehJS code because BokehJS library is missing\");\n",
       "        }\n",
       "      }\n",
       "    }, 25, root)\n",
       "  }\n",
       "})(window);</script>"
      ],
      "text/plain": [
       ":Curve   [Date]   (Cumulative return)"
      ]
     },
     "execution_count": 58,
     "metadata": {
      "application/vnd.holoviews_exec.v0+json": {
       "id": "3605"
      }
     },
     "output_type": "execute_result"
    }
   ],
   "source": [
    "sum_wide_df.hvplot(color=\"red\")"
   ]
  },
  {
   "cell_type": "code",
   "execution_count": 59,
   "id": "c348fdd2-a1c2-4fb0-9101-67a1df66ca0a",
   "metadata": {},
   "outputs": [
    {
     "data": {},
     "metadata": {},
     "output_type": "display_data"
    },
    {
     "data": {
      "application/vnd.holoviews_exec.v0+json": "",
      "text/html": [
       "<div id='3811'>\n",
       "\n",
       "\n",
       "\n",
       "\n",
       "\n",
       "  <div class=\"bk-root\" id=\"703e21ff-6340-4934-910b-6a022eeceda7\" data-root-id=\"3811\"></div>\n",
       "</div>\n",
       "<script type=\"application/javascript\">(function(root) {\n",
       "  function embed_document(root) {\n",
       "    var docs_json = {\"a5f305ef-2f01-4ad7-848e-7de163158bdd\":{\"defs\":[{\"extends\":null,\"module\":null,\"name\":\"ReactiveHTML1\",\"overrides\":[],\"properties\":[]},{\"extends\":null,\"module\":null,\"name\":\"FlexBox1\",\"overrides\":[],\"properties\":[{\"default\":\"flex-start\",\"kind\":null,\"name\":\"align_content\"},{\"default\":\"flex-start\",\"kind\":null,\"name\":\"align_items\"},{\"default\":\"row\",\"kind\":null,\"name\":\"flex_direction\"},{\"default\":\"wrap\",\"kind\":null,\"name\":\"flex_wrap\"},{\"default\":\"flex-start\",\"kind\":null,\"name\":\"justify_content\"}]},{\"extends\":null,\"module\":null,\"name\":\"TemplateActions1\",\"overrides\":[],\"properties\":[{\"default\":0,\"kind\":null,\"name\":\"open_modal\"},{\"default\":0,\"kind\":null,\"name\":\"close_modal\"}]},{\"extends\":null,\"module\":null,\"name\":\"MaterialTemplateActions1\",\"overrides\":[],\"properties\":[{\"default\":0,\"kind\":null,\"name\":\"open_modal\"},{\"default\":0,\"kind\":null,\"name\":\"close_modal\"}]}],\"roots\":{\"references\":[{\"attributes\":{\"data\":{\"A_0\":{\"__ndarray__\":\"/H2ThjEoyL8MfjxMXI7Evxx+5RGH9MC/Wvwcr2O1ur98/G46uYGzvzr5gYsdnKi/+PJLRJFplL8IGdgcMcqAP/4FkjDhmaI/3gL3DJuAsD++AqWBRbS3P5wCU/bv574/PYGANc0Nwz8tgddvoqfGPxyBLqp3Qco/C4GF5EzbzT9+QG4PkbrQP3XAmax7h9I/bEDFSWZU1D9kwPDmUCHWPw==\",\"dtype\":\"float64\",\"order\":\"little\",\"shape\":[20]},\"A_0_count\":[1,0,4,0,5,10,3,6,11,3,3,1,1,0,0,0,0,0,0,1],\"left\":{\"__ndarray__\":\"8/2+Ixz1yb8E/mfpRlvGvxT+EK9xwcK/Svxz6ThPvr9r/MV0jhu3vxj5LwDIz6+/XPnTFnNoob/gzL9r8Qh4v0AMyHdtzJY/3AVApYvNqT/OAk5HcBq0P64C/LsaTrs/RQFVmOJAwT81AazSt9rEPyUBAw2NdMg/EwFaR2IOzD8DAbGBN6jPP3oABF4GodE/cIAv+/Bt0z9oAFuY2zrVPw==\",\"dtype\":\"float64\",\"order\":\"little\",\"shape\":[20]},\"right\":{\"__ndarray__\":\"BP5n6UZbxr8U/hCvccHCv0r8c+k4T76/a/zFdI4bt78Y+S8AyM+vv1z50xZzaKG/4My/a/EIeL9ADMh3bcyWP9wFQKWLzak/zgJOR3AatD+uAvy7Gk67P0UBVZjiQME/NQGs0rfaxD8lAQMNjXTIPxMBWkdiDsw/AwGxgTeozz96AAReBqHRP3CAL/vwbdM/aABbmNs61T9hgIY1xgfXPw==\",\"dtype\":\"float64\",\"order\":\"little\",\"shape\":[20]},\"top\":[1,0,4,0,5,10,3,6,11,3,3,1,1,0,0,0,0,0,0,1]},\"selected\":{\"id\":\"3847\"},\"selection_policy\":{\"id\":\"3868\"}},\"id\":\"3846\",\"type\":\"ColumnDataSource\"},{\"attributes\":{\"margin\":[5,5,5,5],\"name\":\"HSpacer06050\",\"sizing_mode\":\"stretch_width\"},\"id\":\"3812\",\"type\":\"Spacer\"},{\"attributes\":{\"tools\":[{\"id\":\"3815\"},{\"id\":\"3833\"},{\"id\":\"3834\"},{\"id\":\"3835\"},{\"id\":\"3836\"},{\"id\":\"3837\"}]},\"id\":\"3839\",\"type\":\"Toolbar\"},{\"attributes\":{},\"id\":\"3859\",\"type\":\"BasicTickFormatter\"},{\"attributes\":{\"axis_label\":\"\",\"coordinates\":null,\"formatter\":{\"id\":\"3859\"},\"group\":null,\"major_label_policy\":{\"id\":\"3860\"},\"ticker\":{\"id\":\"3830\"}},\"id\":\"3829\",\"type\":\"LinearAxis\"},{\"attributes\":{\"axis\":{\"id\":\"3829\"},\"coordinates\":null,\"dimension\":1,\"grid_line_color\":null,\"group\":null,\"ticker\":null},\"id\":\"3832\",\"type\":\"Grid\"},{\"attributes\":{\"bottom_units\":\"screen\",\"coordinates\":null,\"fill_alpha\":0.5,\"fill_color\":\"lightgrey\",\"group\":null,\"left_units\":\"screen\",\"level\":\"overlay\",\"line_alpha\":1.0,\"line_color\":\"black\",\"line_dash\":[4,4],\"line_width\":2,\"right_units\":\"screen\",\"syncable\":false,\"top_units\":\"screen\"},\"id\":\"3838\",\"type\":\"BoxAnnotation\"},{\"attributes\":{\"source\":{\"id\":\"3846\"}},\"id\":\"3853\",\"type\":\"CDSView\"},{\"attributes\":{},\"id\":\"3834\",\"type\":\"PanTool\"},{\"attributes\":{\"coordinates\":null,\"group\":null,\"text_color\":\"black\",\"text_font_size\":\"12pt\"},\"id\":\"3817\",\"type\":\"Title\"},{\"attributes\":{},\"id\":\"3826\",\"type\":\"BasicTicker\"},{\"attributes\":{\"axis_label\":\"0\",\"coordinates\":null,\"formatter\":{\"id\":\"3856\"},\"group\":null,\"major_label_policy\":{\"id\":\"3857\"},\"ticker\":{\"id\":\"3826\"}},\"id\":\"3825\",\"type\":\"LinearAxis\"},{\"attributes\":{\"end\":0.3839627384204555,\"reset_end\":0.3839627384204555,\"reset_start\":-0.22690589674492326,\"start\":-0.22690589674492326,\"tags\":[[[\"0\",\"0\",null]]]},\"id\":\"3813\",\"type\":\"Range1d\"},{\"attributes\":{\"margin\":[5,5,5,5],\"name\":\"HSpacer06051\",\"sizing_mode\":\"stretch_width\"},\"id\":\"3881\",\"type\":\"Spacer\"},{\"attributes\":{\"bottom\":{\"value\":0},\"fill_alpha\":{\"value\":1.0},\"fill_color\":{\"value\":\"#30a2da\"},\"hatch_alpha\":{\"value\":1.0},\"hatch_color\":{\"value\":\"#30a2da\"},\"hatch_scale\":{\"value\":12.0},\"hatch_weight\":{\"value\":1.0},\"left\":{\"field\":\"left\"},\"line_alpha\":{\"value\":1.0},\"line_cap\":{\"value\":\"butt\"},\"line_color\":{\"value\":\"black\"},\"line_dash\":{\"value\":[]},\"line_dash_offset\":{\"value\":0},\"line_join\":{\"value\":\"bevel\"},\"line_width\":{\"value\":1},\"right\":{\"field\":\"right\"},\"top\":{\"field\":\"top\"}},\"id\":\"3854\",\"type\":\"Quad\"},{\"attributes\":{\"bottom\":{\"value\":0},\"fill_alpha\":{\"value\":0.1},\"fill_color\":{\"value\":\"#30a2da\"},\"hatch_alpha\":{\"value\":0.1},\"hatch_color\":{\"value\":\"#30a2da\"},\"left\":{\"field\":\"left\"},\"line_alpha\":{\"value\":0.1},\"right\":{\"field\":\"right\"},\"top\":{\"field\":\"top\"}},\"id\":\"3850\",\"type\":\"Quad\"},{\"attributes\":{},\"id\":\"3821\",\"type\":\"LinearScale\"},{\"attributes\":{},\"id\":\"3823\",\"type\":\"LinearScale\"},{\"attributes\":{\"axis\":{\"id\":\"3825\"},\"coordinates\":null,\"grid_line_color\":null,\"group\":null,\"ticker\":null},\"id\":\"3828\",\"type\":\"Grid\"},{\"attributes\":{\"end\":12.1,\"reset_end\":12.1,\"reset_start\":0.0,\"tags\":[[[\"0_count\",\"Count\",null]]]},\"id\":\"3814\",\"type\":\"Range1d\"},{\"attributes\":{},\"id\":\"3857\",\"type\":\"AllLabels\"},{\"attributes\":{\"coordinates\":null,\"data_source\":{\"id\":\"3846\"},\"glyph\":{\"id\":\"3849\"},\"group\":null,\"hover_glyph\":null,\"muted_glyph\":{\"id\":\"3851\"},\"nonselection_glyph\":{\"id\":\"3850\"},\"selection_glyph\":{\"id\":\"3854\"},\"view\":{\"id\":\"3853\"}},\"id\":\"3852\",\"type\":\"GlyphRenderer\"},{\"attributes\":{},\"id\":\"3860\",\"type\":\"AllLabels\"},{\"attributes\":{\"bottom\":{\"value\":0},\"fill_alpha\":{\"value\":0.2},\"fill_color\":{\"value\":\"#30a2da\"},\"hatch_alpha\":{\"value\":0.2},\"hatch_color\":{\"value\":\"#30a2da\"},\"left\":{\"field\":\"left\"},\"line_alpha\":{\"value\":0.2},\"right\":{\"field\":\"right\"},\"top\":{\"field\":\"top\"}},\"id\":\"3851\",\"type\":\"Quad\"},{\"attributes\":{},\"id\":\"3837\",\"type\":\"ResetTool\"},{\"attributes\":{\"children\":[{\"id\":\"3812\"},{\"id\":\"3816\"},{\"id\":\"3881\"}],\"margin\":[0,0,0,0],\"name\":\"Row06046\",\"tags\":[\"embedded\"]},\"id\":\"3811\",\"type\":\"Row\"},{\"attributes\":{},\"id\":\"3833\",\"type\":\"SaveTool\"},{\"attributes\":{},\"id\":\"3830\",\"type\":\"BasicTicker\"},{\"attributes\":{\"overlay\":{\"id\":\"3838\"}},\"id\":\"3836\",\"type\":\"BoxZoomTool\"},{\"attributes\":{\"below\":[{\"id\":\"3825\"}],\"center\":[{\"id\":\"3828\"},{\"id\":\"3832\"}],\"height\":300,\"left\":[{\"id\":\"3829\"}],\"margin\":[5,5,5,5],\"min_border_bottom\":10,\"min_border_left\":10,\"min_border_right\":10,\"min_border_top\":10,\"renderers\":[{\"id\":\"3852\"}],\"sizing_mode\":\"fixed\",\"title\":{\"id\":\"3817\"},\"toolbar\":{\"id\":\"3839\"},\"width\":700,\"x_range\":{\"id\":\"3813\"},\"x_scale\":{\"id\":\"3821\"},\"y_range\":{\"id\":\"3814\"},\"y_scale\":{\"id\":\"3823\"}},\"id\":\"3816\",\"subtype\":\"Figure\",\"type\":\"Plot\"},{\"attributes\":{},\"id\":\"3856\",\"type\":\"BasicTickFormatter\"},{\"attributes\":{},\"id\":\"3868\",\"type\":\"UnionRenderers\"},{\"attributes\":{},\"id\":\"3835\",\"type\":\"WheelZoomTool\"},{\"attributes\":{\"bottom\":{\"value\":0},\"fill_color\":{\"value\":\"#30a2da\"},\"hatch_color\":{\"value\":\"#30a2da\"},\"left\":{\"field\":\"left\"},\"right\":{\"field\":\"right\"},\"top\":{\"field\":\"top\"}},\"id\":\"3849\",\"type\":\"Quad\"},{\"attributes\":{},\"id\":\"3847\",\"type\":\"Selection\"},{\"attributes\":{\"callback\":null,\"renderers\":[{\"id\":\"3852\"}],\"tags\":[\"hv_created\"],\"tooltips\":[[\"0\",\"@{A_0}\"],[\"Count\",\"@{A_0_count}\"]]},\"id\":\"3815\",\"type\":\"HoverTool\"}],\"root_ids\":[\"3811\"]},\"title\":\"Bokeh Application\",\"version\":\"2.4.2\"}};\n",
       "    var render_items = [{\"docid\":\"a5f305ef-2f01-4ad7-848e-7de163158bdd\",\"root_ids\":[\"3811\"],\"roots\":{\"3811\":\"703e21ff-6340-4934-910b-6a022eeceda7\"}}];\n",
       "    root.Bokeh.embed.embed_items_notebook(docs_json, render_items);\n",
       "  }\n",
       "  if (root.Bokeh !== undefined && root.Bokeh.Panel !== undefined) {\n",
       "    embed_document(root);\n",
       "  } else {\n",
       "    var attempts = 0;\n",
       "    var timer = setInterval(function(root) {\n",
       "      if (root.Bokeh !== undefined && root.Bokeh.Panel !== undefined) {\n",
       "        clearInterval(timer);\n",
       "        embed_document(root);\n",
       "      } else if (document.readyState == \"complete\") {\n",
       "        attempts++;\n",
       "        if (attempts > 200) {\n",
       "          clearInterval(timer);\n",
       "          console.log(\"Bokeh: ERROR: Unable to run BokehJS code because BokehJS library is missing\");\n",
       "        }\n",
       "      }\n",
       "    }, 25, root)\n",
       "  }\n",
       "})(window);</script>"
      ],
      "text/plain": [
       ":Histogram   [0]   (0_count)"
      ]
     },
     "execution_count": 59,
     "metadata": {
      "application/vnd.holoviews_exec.v0+json": {
       "id": "3811"
      }
     },
     "output_type": "execute_result"
    }
   ],
   "source": [
    "vix_change_df.hvplot.hist()\n",
    "\n"
   ]
  },
  {
   "cell_type": "code",
   "execution_count": 60,
   "id": "1e0f1986-7e32-4ba8-a0ff-73d69d845af8",
   "metadata": {},
   "outputs": [
    {
     "data": {},
     "metadata": {},
     "output_type": "display_data"
    },
    {
     "data": {
      "application/vnd.holoviews_exec.v0+json": "",
      "text/html": [
       "<div id='3933'>\n",
       "\n",
       "\n",
       "\n",
       "\n",
       "\n",
       "  <div class=\"bk-root\" id=\"37c26473-bfee-4832-9ae9-ed9e77f79fdd\" data-root-id=\"3933\"></div>\n",
       "</div>\n",
       "<script type=\"application/javascript\">(function(root) {\n",
       "  function embed_document(root) {\n",
       "    var docs_json = {\"89104751-8569-4b41-bcd9-50938ed8d8fb\":{\"defs\":[{\"extends\":null,\"module\":null,\"name\":\"ReactiveHTML1\",\"overrides\":[],\"properties\":[]},{\"extends\":null,\"module\":null,\"name\":\"FlexBox1\",\"overrides\":[],\"properties\":[{\"default\":\"flex-start\",\"kind\":null,\"name\":\"align_content\"},{\"default\":\"flex-start\",\"kind\":null,\"name\":\"align_items\"},{\"default\":\"row\",\"kind\":null,\"name\":\"flex_direction\"},{\"default\":\"wrap\",\"kind\":null,\"name\":\"flex_wrap\"},{\"default\":\"flex-start\",\"kind\":null,\"name\":\"justify_content\"}]},{\"extends\":null,\"module\":null,\"name\":\"TemplateActions1\",\"overrides\":[],\"properties\":[{\"default\":0,\"kind\":null,\"name\":\"open_modal\"},{\"default\":0,\"kind\":null,\"name\":\"close_modal\"}]},{\"extends\":null,\"module\":null,\"name\":\"MaterialTemplateActions1\",\"overrides\":[],\"properties\":[{\"default\":0,\"kind\":null,\"name\":\"open_modal\"},{\"default\":0,\"kind\":null,\"name\":\"close_modal\"}]}],\"roots\":{\"references\":[{\"attributes\":{\"below\":[{\"id\":\"3947\"}],\"center\":[{\"id\":\"3950\"},{\"id\":\"3954\"}],\"height\":300,\"left\":[{\"id\":\"3951\"}],\"margin\":[5,5,5,5],\"min_border_bottom\":10,\"min_border_left\":10,\"min_border_right\":10,\"min_border_top\":10,\"renderers\":[{\"id\":\"3974\"}],\"sizing_mode\":\"fixed\",\"title\":{\"id\":\"3939\"},\"toolbar\":{\"id\":\"3961\"},\"width\":700,\"x_range\":{\"id\":\"3935\"},\"x_scale\":{\"id\":\"3943\"},\"y_range\":{\"id\":\"3936\"},\"y_scale\":{\"id\":\"3945\"}},\"id\":\"3938\",\"subtype\":\"Figure\",\"type\":\"Plot\"},{\"attributes\":{\"overlay\":{\"id\":\"3960\"}},\"id\":\"3958\",\"type\":\"BoxZoomTool\"},{\"attributes\":{\"axis_label\":\"\",\"coordinates\":null,\"formatter\":{\"id\":\"3981\"},\"group\":null,\"major_label_policy\":{\"id\":\"3982\"},\"ticker\":{\"id\":\"3952\"}},\"id\":\"3951\",\"type\":\"LinearAxis\"},{\"attributes\":{},\"id\":\"3957\",\"type\":\"WheelZoomTool\"},{\"attributes\":{},\"id\":\"3945\",\"type\":\"LinearScale\"},{\"attributes\":{},\"id\":\"3956\",\"type\":\"PanTool\"},{\"attributes\":{},\"id\":\"3969\",\"type\":\"Selection\"},{\"attributes\":{},\"id\":\"3955\",\"type\":\"SaveTool\"},{\"attributes\":{\"bottom\":{\"value\":0},\"fill_color\":{\"value\":\"#30a2da\"},\"hatch_color\":{\"value\":\"#30a2da\"},\"left\":{\"field\":\"left\"},\"right\":{\"field\":\"right\"},\"top\":{\"field\":\"top\"}},\"id\":\"3971\",\"type\":\"Quad\"},{\"attributes\":{\"tools\":[{\"id\":\"3937\"},{\"id\":\"3955\"},{\"id\":\"3956\"},{\"id\":\"3957\"},{\"id\":\"3958\"},{\"id\":\"3959\"}]},\"id\":\"3961\",\"type\":\"Toolbar\"},{\"attributes\":{\"source\":{\"id\":\"3968\"}},\"id\":\"3975\",\"type\":\"CDSView\"},{\"attributes\":{},\"id\":\"3948\",\"type\":\"BasicTicker\"},{\"attributes\":{\"children\":[{\"id\":\"3934\"},{\"id\":\"3938\"},{\"id\":\"4003\"}],\"margin\":[0,0,0,0],\"name\":\"Row06222\",\"tags\":[\"embedded\"]},\"id\":\"3933\",\"type\":\"Row\"},{\"attributes\":{},\"id\":\"3978\",\"type\":\"BasicTickFormatter\"},{\"attributes\":{},\"id\":\"3943\",\"type\":\"LinearScale\"},{\"attributes\":{\"end\":13.2,\"reset_end\":13.2,\"reset_start\":0.0,\"tags\":[[[\"0_count\",\"Count\",null]]]},\"id\":\"3936\",\"type\":\"Range1d\"},{\"attributes\":{\"bottom_units\":\"screen\",\"coordinates\":null,\"fill_alpha\":0.5,\"fill_color\":\"lightgrey\",\"group\":null,\"left_units\":\"screen\",\"level\":\"overlay\",\"line_alpha\":1.0,\"line_color\":\"black\",\"line_dash\":[4,4],\"line_width\":2,\"right_units\":\"screen\",\"syncable\":false,\"top_units\":\"screen\"},\"id\":\"3960\",\"type\":\"BoxAnnotation\"},{\"attributes\":{},\"id\":\"3979\",\"type\":\"AllLabels\"},{\"attributes\":{\"data\":{\"A_0\":{\"__ndarray__\":\"+vR1BD3Sy7/W1Hk0Oj/Hv7S0fWQ3rMK/ICkDKWkyvL/Y6AqJYwyzvyJRJdK7zKO/YAlNIwkLaL/4r7utWsugP0QY1vayi7E/jFjOlrixuj9pTGMb3+vBP4xsX+vhfsY/sIxbu+QRyz/TrFeL56TPP3vmqS31G9I/jfanlXZl1D+fBqb9967WP7EWpGV5+Ng/wyaizfpB2z/UNqA1fIvdPw==\",\"dtype\":\"float64\",\"order\":\"little\",\"shape\":[20]},\"A_0_count\":[1,0,4,1,6,12,9,5,4,3,0,0,0,0,2,1,0,0,0,1],\"left\":{\"__ndarray__\":\"DAV0bL4bzr/o5Hecu4jJv8XEe8y49cS/oqR//LViwL/8CAdZZp+3v2iRHXLB8qy/uCFaZGxNlb/Avg03VJWOP0Dws01g8ak/aDjSxrUetj+weMpmu0S/P3pcYYNgNcQ/nnxdU2PIyD/CnFkjZlvNP3Leqnk099A/hO6o4bVA0z+W/qZJN4rVP6gOpbG409c/uh6jGTod2j/MLqGBu2bcPw==\",\"dtype\":\"float64\",\"order\":\"little\",\"shape\":[20]},\"right\":{\"__ndarray__\":\"6OR3nLuIyb/FxHvMuPXEv6Kkf/y1YsC//AgHWWaft79okR1ywfKsv7ghWmRsTZW/wL4NN1SVjj9A8LNNYPGpP2g40sa1HrY/sHjKZrtEvz96XGGDYDXEP558XVNjyMg/wpxZI2ZbzT9y3qp5NPfQP4TuqOG1QNM/lv6mSTeK1T+oDqWxuNPXP7oeoxk6Hdo/zC6hgbtm3D/cPp/pPLDePw==\",\"dtype\":\"float64\",\"order\":\"little\",\"shape\":[20]},\"top\":[1,0,4,1,6,12,9,5,4,3,0,0,0,0,2,1,0,0,0,1]},\"selected\":{\"id\":\"3969\"},\"selection_policy\":{\"id\":\"3990\"}},\"id\":\"3968\",\"type\":\"ColumnDataSource\"},{\"attributes\":{\"bottom\":{\"value\":0},\"fill_alpha\":{\"value\":0.2},\"fill_color\":{\"value\":\"#30a2da\"},\"hatch_alpha\":{\"value\":0.2},\"hatch_color\":{\"value\":\"#30a2da\"},\"left\":{\"field\":\"left\"},\"line_alpha\":{\"value\":0.2},\"right\":{\"field\":\"right\"},\"top\":{\"field\":\"top\"}},\"id\":\"3973\",\"type\":\"Quad\"},{\"attributes\":{\"end\":0.5101379266951986,\"reset_end\":0.5101379266951986,\"reset_start\":-0.2658528913798081,\"start\":-0.2658528913798081,\"tags\":[[[\"0\",\"0\",null]]]},\"id\":\"3935\",\"type\":\"Range1d\"},{\"attributes\":{},\"id\":\"3982\",\"type\":\"AllLabels\"},{\"attributes\":{\"bottom\":{\"value\":0},\"fill_alpha\":{\"value\":1.0},\"fill_color\":{\"value\":\"#30a2da\"},\"hatch_alpha\":{\"value\":1.0},\"hatch_color\":{\"value\":\"#30a2da\"},\"hatch_scale\":{\"value\":12.0},\"hatch_weight\":{\"value\":1.0},\"left\":{\"field\":\"left\"},\"line_alpha\":{\"value\":1.0},\"line_cap\":{\"value\":\"butt\"},\"line_color\":{\"value\":\"black\"},\"line_dash\":{\"value\":[]},\"line_dash_offset\":{\"value\":0},\"line_join\":{\"value\":\"bevel\"},\"line_width\":{\"value\":1},\"right\":{\"field\":\"right\"},\"top\":{\"field\":\"top\"}},\"id\":\"3976\",\"type\":\"Quad\"},{\"attributes\":{\"bottom\":{\"value\":0},\"fill_alpha\":{\"value\":0.1},\"fill_color\":{\"value\":\"#30a2da\"},\"hatch_alpha\":{\"value\":0.1},\"hatch_color\":{\"value\":\"#30a2da\"},\"left\":{\"field\":\"left\"},\"line_alpha\":{\"value\":0.1},\"right\":{\"field\":\"right\"},\"top\":{\"field\":\"top\"}},\"id\":\"3972\",\"type\":\"Quad\"},{\"attributes\":{},\"id\":\"3990\",\"type\":\"UnionRenderers\"},{\"attributes\":{\"callback\":null,\"renderers\":[{\"id\":\"3974\"}],\"tags\":[\"hv_created\"],\"tooltips\":[[\"0\",\"@{A_0}\"],[\"Count\",\"@{A_0_count}\"]]},\"id\":\"3937\",\"type\":\"HoverTool\"},{\"attributes\":{\"margin\":[5,5,5,5],\"name\":\"HSpacer06226\",\"sizing_mode\":\"stretch_width\"},\"id\":\"3934\",\"type\":\"Spacer\"},{\"attributes\":{\"coordinates\":null,\"data_source\":{\"id\":\"3968\"},\"glyph\":{\"id\":\"3971\"},\"group\":null,\"hover_glyph\":null,\"muted_glyph\":{\"id\":\"3973\"},\"nonselection_glyph\":{\"id\":\"3972\"},\"selection_glyph\":{\"id\":\"3976\"},\"view\":{\"id\":\"3975\"}},\"id\":\"3974\",\"type\":\"GlyphRenderer\"},{\"attributes\":{\"coordinates\":null,\"group\":null,\"text_color\":\"black\",\"text_font_size\":\"12pt\"},\"id\":\"3939\",\"type\":\"Title\"},{\"attributes\":{},\"id\":\"3952\",\"type\":\"BasicTicker\"},{\"attributes\":{},\"id\":\"3981\",\"type\":\"BasicTickFormatter\"},{\"attributes\":{},\"id\":\"3959\",\"type\":\"ResetTool\"},{\"attributes\":{\"margin\":[5,5,5,5],\"name\":\"HSpacer06227\",\"sizing_mode\":\"stretch_width\"},\"id\":\"4003\",\"type\":\"Spacer\"},{\"attributes\":{\"axis\":{\"id\":\"3947\"},\"coordinates\":null,\"grid_line_color\":null,\"group\":null,\"ticker\":null},\"id\":\"3950\",\"type\":\"Grid\"},{\"attributes\":{\"axis\":{\"id\":\"3951\"},\"coordinates\":null,\"dimension\":1,\"grid_line_color\":null,\"group\":null,\"ticker\":null},\"id\":\"3954\",\"type\":\"Grid\"},{\"attributes\":{\"axis_label\":\"0\",\"coordinates\":null,\"formatter\":{\"id\":\"3978\"},\"group\":null,\"major_label_policy\":{\"id\":\"3979\"},\"ticker\":{\"id\":\"3948\"}},\"id\":\"3947\",\"type\":\"LinearAxis\"}],\"root_ids\":[\"3933\"]},\"title\":\"Bokeh Application\",\"version\":\"2.4.2\"}};\n",
       "    var render_items = [{\"docid\":\"89104751-8569-4b41-bcd9-50938ed8d8fb\",\"root_ids\":[\"3933\"],\"roots\":{\"3933\":\"37c26473-bfee-4832-9ae9-ed9e77f79fdd\"}}];\n",
       "    root.Bokeh.embed.embed_items_notebook(docs_json, render_items);\n",
       "  }\n",
       "  if (root.Bokeh !== undefined && root.Bokeh.Panel !== undefined) {\n",
       "    embed_document(root);\n",
       "  } else {\n",
       "    var attempts = 0;\n",
       "    var timer = setInterval(function(root) {\n",
       "      if (root.Bokeh !== undefined && root.Bokeh.Panel !== undefined) {\n",
       "        clearInterval(timer);\n",
       "        embed_document(root);\n",
       "      } else if (document.readyState == \"complete\") {\n",
       "        attempts++;\n",
       "        if (attempts > 200) {\n",
       "          clearInterval(timer);\n",
       "          console.log(\"Bokeh: ERROR: Unable to run BokehJS code because BokehJS library is missing\");\n",
       "        }\n",
       "      }\n",
       "    }, 25, root)\n",
       "  }\n",
       "})(window);</script>"
      ],
      "text/plain": [
       ":Histogram   [0]   (0_count)"
      ]
     },
     "execution_count": 60,
     "metadata": {
      "application/vnd.holoviews_exec.v0+json": {
       "id": "3933"
      }
     },
     "output_type": "execute_result"
    }
   ],
   "source": [
    "vix_change_wide_df.hvplot.hist()"
   ]
  },
  {
   "cell_type": "code",
   "execution_count": 61,
   "id": "4650399d-1a53-4437-88ec-b7a13d36a8a5",
   "metadata": {},
   "outputs": [
    {
     "data": {},
     "metadata": {},
     "output_type": "display_data"
    },
    {
     "data": {
      "application/vnd.holoviews_exec.v0+json": "",
      "text/html": [
       "<div id='4055'>\n",
       "\n",
       "\n",
       "\n",
       "\n",
       "\n",
       "  <div class=\"bk-root\" id=\"0db87220-15eb-45e6-80ee-01715bad4dd5\" data-root-id=\"4055\"></div>\n",
       "</div>\n",
       "<script type=\"application/javascript\">(function(root) {\n",
       "  function embed_document(root) {\n",
       "    var docs_json = {\"a23f0ec7-b561-40dc-919b-e3192f418ba0\":{\"defs\":[{\"extends\":null,\"module\":null,\"name\":\"ReactiveHTML1\",\"overrides\":[],\"properties\":[]},{\"extends\":null,\"module\":null,\"name\":\"FlexBox1\",\"overrides\":[],\"properties\":[{\"default\":\"flex-start\",\"kind\":null,\"name\":\"align_content\"},{\"default\":\"flex-start\",\"kind\":null,\"name\":\"align_items\"},{\"default\":\"row\",\"kind\":null,\"name\":\"flex_direction\"},{\"default\":\"wrap\",\"kind\":null,\"name\":\"flex_wrap\"},{\"default\":\"flex-start\",\"kind\":null,\"name\":\"justify_content\"}]},{\"extends\":null,\"module\":null,\"name\":\"TemplateActions1\",\"overrides\":[],\"properties\":[{\"default\":0,\"kind\":null,\"name\":\"open_modal\"},{\"default\":0,\"kind\":null,\"name\":\"close_modal\"}]},{\"extends\":null,\"module\":null,\"name\":\"MaterialTemplateActions1\",\"overrides\":[],\"properties\":[{\"default\":0,\"kind\":null,\"name\":\"open_modal\"},{\"default\":0,\"kind\":null,\"name\":\"close_modal\"}]}],\"roots\":{\"references\":[{\"attributes\":{\"axis\":{\"id\":\"4074\"},\"coordinates\":null,\"dimension\":1,\"grid_line_color\":null,\"group\":null,\"ticker\":null},\"id\":\"4077\",\"type\":\"Grid\"},{\"attributes\":{\"source\":{\"id\":\"4106\"}},\"id\":\"4113\",\"type\":\"CDSView\"},{\"attributes\":{\"bottom\":{\"value\":0},\"fill_alpha\":{\"value\":1.0},\"fill_color\":{\"value\":\"#30a2da\"},\"hatch_alpha\":{\"value\":1.0},\"hatch_color\":{\"value\":\"#30a2da\"},\"hatch_scale\":{\"value\":12.0},\"hatch_weight\":{\"value\":1.0},\"left\":{\"field\":\"left\"},\"line_alpha\":{\"value\":1.0},\"line_cap\":{\"value\":\"butt\"},\"line_color\":{\"value\":\"black\"},\"line_dash\":{\"value\":[]},\"line_dash_offset\":{\"value\":0},\"line_join\":{\"value\":\"bevel\"},\"line_width\":{\"value\":1},\"right\":{\"field\":\"right\"},\"top\":{\"field\":\"top\"}},\"id\":\"4105\",\"type\":\"Quad\"},{\"attributes\":{},\"id\":\"4096\",\"type\":\"AllLabels\"},{\"attributes\":{},\"id\":\"4071\",\"type\":\"BasicTicker\"},{\"attributes\":{},\"id\":\"4124\",\"type\":\"UnionRenderers\"},{\"attributes\":{\"bottom\":{\"value\":0},\"fill_alpha\":{\"value\":0.1},\"fill_color\":{\"value\":\"#fc4f30\"},\"hatch_alpha\":{\"value\":0.1},\"hatch_color\":{\"value\":\"#fc4f30\"},\"left\":{\"field\":\"left\"},\"line_alpha\":{\"value\":0.1},\"right\":{\"field\":\"right\"},\"top\":{\"field\":\"top\"}},\"id\":\"4110\",\"type\":\"Quad\"},{\"attributes\":{},\"id\":\"4079\",\"type\":\"PanTool\"},{\"attributes\":{\"bottom\":{\"value\":0},\"fill_alpha\":{\"value\":1.0},\"fill_color\":{\"value\":\"#fc4f30\"},\"hatch_alpha\":{\"value\":1.0},\"hatch_color\":{\"value\":\"#fc4f30\"},\"hatch_scale\":{\"value\":12.0},\"hatch_weight\":{\"value\":1.0},\"left\":{\"field\":\"left\"},\"line_alpha\":{\"value\":1.0},\"line_cap\":{\"value\":\"butt\"},\"line_color\":{\"value\":\"black\"},\"line_dash\":{\"value\":[]},\"line_dash_offset\":{\"value\":0},\"line_join\":{\"value\":\"bevel\"},\"line_width\":{\"value\":1},\"right\":{\"field\":\"right\"},\"top\":{\"field\":\"top\"}},\"id\":\"4114\",\"type\":\"Quad\"},{\"attributes\":{},\"id\":\"4080\",\"type\":\"WheelZoomTool\"},{\"attributes\":{\"axis_label\":\"\",\"coordinates\":null,\"formatter\":{\"id\":\"4095\"},\"group\":null,\"major_label_policy\":{\"id\":\"4096\"},\"ticker\":{\"id\":\"4075\"}},\"id\":\"4074\",\"type\":\"LinearAxis\"},{\"attributes\":{},\"id\":\"4075\",\"type\":\"BasicTicker\"},{\"attributes\":{},\"id\":\"4095\",\"type\":\"BasicTickFormatter\"},{\"attributes\":{\"coordinates\":null,\"data_source\":{\"id\":\"4106\"},\"glyph\":{\"id\":\"4109\"},\"group\":null,\"hover_glyph\":null,\"muted_glyph\":{\"id\":\"4111\"},\"nonselection_glyph\":{\"id\":\"4110\"},\"selection_glyph\":{\"id\":\"4114\"},\"view\":{\"id\":\"4113\"}},\"id\":\"4112\",\"type\":\"GlyphRenderer\"},{\"attributes\":{},\"id\":\"4078\",\"type\":\"SaveTool\"},{\"attributes\":{\"bottom\":{\"value\":0},\"fill_alpha\":{\"value\":0.2},\"fill_color\":{\"value\":\"#fc4f30\"},\"hatch_alpha\":{\"value\":0.2},\"hatch_color\":{\"value\":\"#fc4f30\"},\"left\":{\"field\":\"left\"},\"line_alpha\":{\"value\":0.2},\"right\":{\"field\":\"right\"},\"top\":{\"field\":\"top\"}},\"id\":\"4111\",\"type\":\"Quad\"},{\"attributes\":{\"overlay\":{\"id\":\"4083\"}},\"id\":\"4081\",\"type\":\"BoxZoomTool\"},{\"attributes\":{\"margin\":[5,5,5,5],\"name\":\"HSpacer06476\",\"sizing_mode\":\"stretch_width\"},\"id\":\"4223\",\"type\":\"Spacer\"},{\"attributes\":{},\"id\":\"4082\",\"type\":\"ResetTool\"},{\"attributes\":{\"bottom_units\":\"screen\",\"coordinates\":null,\"fill_alpha\":0.5,\"fill_color\":\"lightgrey\",\"group\":null,\"left_units\":\"screen\",\"level\":\"overlay\",\"line_alpha\":1.0,\"line_color\":\"black\",\"line_dash\":[4,4],\"line_width\":2,\"right_units\":\"screen\",\"syncable\":false,\"top_units\":\"screen\"},\"id\":\"4083\",\"type\":\"BoxAnnotation\"},{\"attributes\":{},\"id\":\"4066\",\"type\":\"LinearScale\"},{\"attributes\":{\"end\":13.2,\"reset_end\":13.2,\"reset_start\":0.0,\"tags\":[[[\"0_count\",\"Count\",null]]]},\"id\":\"4058\",\"type\":\"Range1d\"},{\"attributes\":{\"tools\":[{\"id\":\"4059\"},{\"id\":\"4078\"},{\"id\":\"4079\"},{\"id\":\"4080\"},{\"id\":\"4081\"},{\"id\":\"4082\"}]},\"id\":\"4084\",\"type\":\"Toolbar\"},{\"attributes\":{\"bottom\":{\"value\":0},\"fill_color\":{\"value\":\"#30a2da\"},\"hatch_color\":{\"value\":\"#30a2da\"},\"left\":{\"field\":\"left\"},\"right\":{\"field\":\"right\"},\"top\":{\"field\":\"top\"}},\"id\":\"4100\",\"type\":\"Quad\"},{\"attributes\":{},\"id\":\"4093\",\"type\":\"AllLabels\"},{\"attributes\":{\"callback\":null,\"renderers\":[{\"id\":\"4103\"},{\"id\":\"4112\"}],\"tags\":[\"hv_created\"],\"tooltips\":[[\"0\",\"@{A_0}\"],[\"Count\",\"@{A_0_count}\"]]},\"id\":\"4059\",\"type\":\"HoverTool\"},{\"attributes\":{\"data\":{\"A_0\":{\"__ndarray__\":\"+vR1BD3Sy7/W1Hk0Oj/Hv7S0fWQ3rMK/ICkDKWkyvL/Y6AqJYwyzvyJRJdK7zKO/YAlNIwkLaL/4r7utWsugP0QY1vayi7E/jFjOlrixuj9pTGMb3+vBP4xsX+vhfsY/sIxbu+QRyz/TrFeL56TPP3vmqS31G9I/jfanlXZl1D+fBqb9967WP7EWpGV5+Ng/wyaizfpB2z/UNqA1fIvdPw==\",\"dtype\":\"float64\",\"order\":\"little\",\"shape\":[20]},\"A_0_count\":[1,0,4,1,6,12,9,5,4,3,0,0,0,0,2,1,0,0,0,1],\"left\":{\"__ndarray__\":\"DAV0bL4bzr/o5Hecu4jJv8XEe8y49cS/oqR//LViwL/8CAdZZp+3v2iRHXLB8qy/uCFaZGxNlb/Avg03VJWOP0Dws01g8ak/aDjSxrUetj+weMpmu0S/P3pcYYNgNcQ/nnxdU2PIyD/CnFkjZlvNP3Leqnk099A/hO6o4bVA0z+W/qZJN4rVP6gOpbG409c/uh6jGTod2j/MLqGBu2bcPw==\",\"dtype\":\"float64\",\"order\":\"little\",\"shape\":[20]},\"right\":{\"__ndarray__\":\"6OR3nLuIyb/FxHvMuPXEv6Kkf/y1YsC//AgHWWaft79okR1ywfKsv7ghWmRsTZW/wL4NN1SVjj9A8LNNYPGpP2g40sa1HrY/sHjKZrtEvz96XGGDYDXEP558XVNjyMg/wpxZI2ZbzT9y3qp5NPfQP4TuqOG1QNM/lv6mSTeK1T+oDqWxuNPXP7oeoxk6Hdo/zC6hgbtm3D/cPp/pPLDePw==\",\"dtype\":\"float64\",\"order\":\"little\",\"shape\":[20]},\"top\":[1,0,4,1,6,12,9,5,4,3,0,0,0,0,2,1,0,0,0,1]},\"selected\":{\"id\":\"4098\"},\"selection_policy\":{\"id\":\"4122\"}},\"id\":\"4097\",\"type\":\"ColumnDataSource\"},{\"attributes\":{},\"id\":\"4122\",\"type\":\"UnionRenderers\"},{\"attributes\":{\"children\":[{\"id\":\"4056\"},{\"id\":\"4061\"},{\"id\":\"4223\"}],\"margin\":[0,0,0,0],\"name\":\"Row06471\",\"tags\":[\"embedded\"]},\"id\":\"4055\",\"type\":\"Row\"},{\"attributes\":{},\"id\":\"4092\",\"type\":\"BasicTickFormatter\"},{\"attributes\":{},\"id\":\"4068\",\"type\":\"LinearScale\"},{\"attributes\":{\"source\":{\"id\":\"4097\"}},\"id\":\"4104\",\"type\":\"CDSView\"},{\"attributes\":{\"end\":0.5101379266951986,\"reset_end\":0.5101379266951986,\"reset_start\":-0.2658528913798081,\"start\":-0.2658528913798081,\"tags\":[[[\"0\",\"0\",null]]]},\"id\":\"4057\",\"type\":\"Range1d\"},{\"attributes\":{\"bottom\":{\"value\":0},\"fill_alpha\":{\"value\":0.1},\"fill_color\":{\"value\":\"#30a2da\"},\"hatch_alpha\":{\"value\":0.1},\"hatch_color\":{\"value\":\"#30a2da\"},\"left\":{\"field\":\"left\"},\"line_alpha\":{\"value\":0.1},\"right\":{\"field\":\"right\"},\"top\":{\"field\":\"top\"}},\"id\":\"4101\",\"type\":\"Quad\"},{\"attributes\":{\"below\":[{\"id\":\"4070\"}],\"center\":[{\"id\":\"4073\"},{\"id\":\"4077\"}],\"height\":300,\"left\":[{\"id\":\"4074\"}],\"margin\":[5,5,5,5],\"min_border_bottom\":10,\"min_border_left\":10,\"min_border_right\":10,\"min_border_top\":10,\"renderers\":[{\"id\":\"4103\"},{\"id\":\"4112\"}],\"sizing_mode\":\"fixed\",\"title\":{\"id\":\"4062\"},\"toolbar\":{\"id\":\"4084\"},\"width\":700,\"x_range\":{\"id\":\"4057\"},\"x_scale\":{\"id\":\"4066\"},\"y_range\":{\"id\":\"4058\"},\"y_scale\":{\"id\":\"4068\"}},\"id\":\"4061\",\"subtype\":\"Figure\",\"type\":\"Plot\"},{\"attributes\":{\"coordinates\":null,\"data_source\":{\"id\":\"4097\"},\"glyph\":{\"id\":\"4100\"},\"group\":null,\"hover_glyph\":null,\"muted_glyph\":{\"id\":\"4102\"},\"nonselection_glyph\":{\"id\":\"4101\"},\"selection_glyph\":{\"id\":\"4105\"},\"view\":{\"id\":\"4104\"}},\"id\":\"4103\",\"type\":\"GlyphRenderer\"},{\"attributes\":{\"bottom\":{\"value\":0},\"fill_color\":{\"value\":\"#fc4f30\"},\"hatch_color\":{\"value\":\"#fc4f30\"},\"left\":{\"field\":\"left\"},\"right\":{\"field\":\"right\"},\"top\":{\"field\":\"top\"}},\"id\":\"4109\",\"type\":\"Quad\"},{\"attributes\":{\"data\":{\"A_0\":{\"__ndarray__\":\"/H2ThjEoyL8MfjxMXI7Evxx+5RGH9MC/Wvwcr2O1ur98/G46uYGzvzr5gYsdnKi/+PJLRJFplL8IGdgcMcqAP/4FkjDhmaI/3gL3DJuAsD++AqWBRbS3P5wCU/bv574/PYGANc0Nwz8tgddvoqfGPxyBLqp3Qco/C4GF5EzbzT9+QG4PkbrQP3XAmax7h9I/bEDFSWZU1D9kwPDmUCHWPw==\",\"dtype\":\"float64\",\"order\":\"little\",\"shape\":[20]},\"A_0_count\":[1,0,4,0,5,10,3,6,11,3,3,1,1,0,0,0,0,0,0,1],\"left\":{\"__ndarray__\":\"8/2+Ixz1yb8E/mfpRlvGvxT+EK9xwcK/Svxz6ThPvr9r/MV0jhu3vxj5LwDIz6+/XPnTFnNoob/gzL9r8Qh4v0AMyHdtzJY/3AVApYvNqT/OAk5HcBq0P64C/LsaTrs/RQFVmOJAwT81AazSt9rEPyUBAw2NdMg/EwFaR2IOzD8DAbGBN6jPP3oABF4GodE/cIAv+/Bt0z9oAFuY2zrVPw==\",\"dtype\":\"float64\",\"order\":\"little\",\"shape\":[20]},\"right\":{\"__ndarray__\":\"BP5n6UZbxr8U/hCvccHCv0r8c+k4T76/a/zFdI4bt78Y+S8AyM+vv1z50xZzaKG/4My/a/EIeL9ADMh3bcyWP9wFQKWLzak/zgJOR3AatD+uAvy7Gk67P0UBVZjiQME/NQGs0rfaxD8lAQMNjXTIPxMBWkdiDsw/AwGxgTeozz96AAReBqHRP3CAL/vwbdM/aABbmNs61T9hgIY1xgfXPw==\",\"dtype\":\"float64\",\"order\":\"little\",\"shape\":[20]},\"top\":[1,0,4,0,5,10,3,6,11,3,3,1,1,0,0,0,0,0,0,1]},\"selected\":{\"id\":\"4107\"},\"selection_policy\":{\"id\":\"4124\"}},\"id\":\"4106\",\"type\":\"ColumnDataSource\"},{\"attributes\":{},\"id\":\"4098\",\"type\":\"Selection\"},{\"attributes\":{},\"id\":\"4107\",\"type\":\"Selection\"},{\"attributes\":{\"margin\":[5,5,5,5],\"name\":\"HSpacer06475\",\"sizing_mode\":\"stretch_width\"},\"id\":\"4056\",\"type\":\"Spacer\"},{\"attributes\":{\"bottom\":{\"value\":0},\"fill_alpha\":{\"value\":0.2},\"fill_color\":{\"value\":\"#30a2da\"},\"hatch_alpha\":{\"value\":0.2},\"hatch_color\":{\"value\":\"#30a2da\"},\"left\":{\"field\":\"left\"},\"line_alpha\":{\"value\":0.2},\"right\":{\"field\":\"right\"},\"top\":{\"field\":\"top\"}},\"id\":\"4102\",\"type\":\"Quad\"},{\"attributes\":{\"coordinates\":null,\"group\":null,\"text_color\":\"black\",\"text_font_size\":\"12pt\"},\"id\":\"4062\",\"type\":\"Title\"},{\"attributes\":{\"axis_label\":\"0\",\"coordinates\":null,\"formatter\":{\"id\":\"4092\"},\"group\":null,\"major_label_policy\":{\"id\":\"4093\"},\"ticker\":{\"id\":\"4071\"}},\"id\":\"4070\",\"type\":\"LinearAxis\"},{\"attributes\":{\"axis\":{\"id\":\"4070\"},\"coordinates\":null,\"grid_line_color\":null,\"group\":null,\"ticker\":null},\"id\":\"4073\",\"type\":\"Grid\"}],\"root_ids\":[\"4055\"]},\"title\":\"Bokeh Application\",\"version\":\"2.4.2\"}};\n",
       "    var render_items = [{\"docid\":\"a23f0ec7-b561-40dc-919b-e3192f418ba0\",\"root_ids\":[\"4055\"],\"roots\":{\"4055\":\"0db87220-15eb-45e6-80ee-01715bad4dd5\"}}];\n",
       "    root.Bokeh.embed.embed_items_notebook(docs_json, render_items);\n",
       "  }\n",
       "  if (root.Bokeh !== undefined && root.Bokeh.Panel !== undefined) {\n",
       "    embed_document(root);\n",
       "  } else {\n",
       "    var attempts = 0;\n",
       "    var timer = setInterval(function(root) {\n",
       "      if (root.Bokeh !== undefined && root.Bokeh.Panel !== undefined) {\n",
       "        clearInterval(timer);\n",
       "        embed_document(root);\n",
       "      } else if (document.readyState == \"complete\") {\n",
       "        attempts++;\n",
       "        if (attempts > 200) {\n",
       "          clearInterval(timer);\n",
       "          console.log(\"Bokeh: ERROR: Unable to run BokehJS code because BokehJS library is missing\");\n",
       "        }\n",
       "      }\n",
       "    }, 25, root)\n",
       "  }\n",
       "})(window);</script>"
      ],
      "text/plain": [
       ":Overlay\n",
       "   .Histogram.I  :Histogram   [0]   (0_count)\n",
       "   .Histogram.II :Histogram   [0]   (0_count)"
      ]
     },
     "execution_count": 61,
     "metadata": {
      "application/vnd.holoviews_exec.v0+json": {
       "id": "4055"
      }
     },
     "output_type": "execute_result"
    }
   ],
   "source": [
    "\n",
    "\n",
    "vix_change_wide_df.hvplot.hist()*vix_change_df.hvplot.hist()\n",
    "\n",
    "\n",
    "#find a way to measure how much skewness there is"
   ]
  },
  {
   "cell_type": "code",
   "execution_count": 62,
   "id": "2d0a7c94-9038-433c-b5dc-729557f92fdc",
   "metadata": {},
   "outputs": [
    {
     "name": "stdout",
     "output_type": "stream",
     "text": [
      "Vix Change Wide Skew Value\n"
     ]
    },
    {
     "data": {
      "text/plain": [
       "0    1.699213\n",
       "dtype: float64"
      ]
     },
     "metadata": {},
     "output_type": "display_data"
    },
    {
     "name": "stdout",
     "output_type": "stream",
     "text": [
      "Vix Change Skew Value\n"
     ]
    },
    {
     "data": {
      "text/plain": [
       "0    1.165366\n",
       "dtype: float64"
      ]
     },
     "metadata": {},
     "output_type": "display_data"
    }
   ],
   "source": [
    "vix_wide_skew = vix_change_wide_df.skew()\n",
    "print(\"Vix Change Wide Skew Value\")\n",
    "display(vix_wide_skew)\n",
    "\n",
    "vix_change_skew =vix_change_df.skew()\n",
    "print(\"Vix Change Skew Value\")\n",
    "display(vix_change_skew)"
   ]
  },
  {
   "cell_type": "code",
   "execution_count": null,
   "id": "0ca67c27-8812-4912-826c-ec54b55ab435",
   "metadata": {},
   "outputs": [],
   "source": []
  },
  {
   "cell_type": "code",
   "execution_count": null,
   "id": "89ba11e6-3679-485b-9cad-08d7b13f4c65",
   "metadata": {},
   "outputs": [],
   "source": []
  }
 ],
 "metadata": {
  "kernelspec": {
   "display_name": "Python 3 (ipykernel)",
   "language": "python",
   "name": "python3"
  },
  "language_info": {
   "codemirror_mode": {
    "name": "ipython",
    "version": 3
   },
   "file_extension": ".py",
   "mimetype": "text/x-python",
   "name": "python",
   "nbconvert_exporter": "python",
   "pygments_lexer": "ipython3",
   "version": "3.9.7"
  }
 },
 "nbformat": 4,
 "nbformat_minor": 5
}
