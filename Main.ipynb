{
 "cells": [
  {
   "cell_type": "code",
   "execution_count": 148,
   "id": "b5972d05-2c87-4416-b4ee-52b1ecbe19a6",
   "metadata": {},
   "outputs": [],
   "source": [
    "import pandas as pd\n",
    "import hvplot.pandas\n",
    "from pathlib import Path\n",
    "%matplotlib inline\n",
    "%store -r dates_FOMC"
   ]
  },
  {
   "cell_type": "code",
   "execution_count": 149,
   "id": "2a5f0180-c840-4903-a567-41169c216238",
   "metadata": {},
   "outputs": [
    {
     "data": {
      "text/plain": [
       "DatetimeIndex(['2017-02-01', '2017-03-15', '2017-05-03', '2017-06-14',\n",
       "               '2017-07-26', '2017-09-20', '2017-11-01', '2017-12-13',\n",
       "               '2018-01-31', '2018-03-21', '2018-05-02', '2018-06-13',\n",
       "               '2018-08-01', '2018-09-26', '2018-11-08', '2018-12-19',\n",
       "               '2019-01-30', '2019-03-20', '2019-05-01', '2019-06-19',\n",
       "               '2019-07-31', '2019-09-18', '2019-10-04', '2019-10-30',\n",
       "               '2019-12-11', '2020-01-29', '2020-03-03', '2020-03-18',\n",
       "               '2020-03-19', '2020-03-23', '2020-03-31', '2020-04-29',\n",
       "               '2020-06-10', '2020-07-29', '2020-08-27', '2020-09-16',\n",
       "               '2020-11-05', '2020-12-16', '2021-01-27', '2021-03-17',\n",
       "               '2021-04-28', '2021-06-16', '2021-07-28', '2021-09-22',\n",
       "               '2021-11-03', '2021-12-15', '2022-01-26', '2022-03-16',\n",
       "               '2022-05-04'],\n",
       "              dtype='datetime64[ns]', freq=None)"
      ]
     },
     "execution_count": 149,
     "metadata": {},
     "output_type": "execute_result"
    }
   ],
   "source": [
    "dates_FOMC = dates_FOMC.sort_values()\n",
    "dates_FOMC"
   ]
  },
  {
   "cell_type": "code",
   "execution_count": 150,
   "id": "c888b9d7-ccb9-420c-886e-48c80f9f63a6",
   "metadata": {},
   "outputs": [
    {
     "data": {
      "text/html": [
       "<div>\n",
       "<style scoped>\n",
       "    .dataframe tbody tr th:only-of-type {\n",
       "        vertical-align: middle;\n",
       "    }\n",
       "\n",
       "    .dataframe tbody tr th {\n",
       "        vertical-align: top;\n",
       "    }\n",
       "\n",
       "    .dataframe thead th {\n",
       "        text-align: right;\n",
       "    }\n",
       "</style>\n",
       "<table border=\"1\" class=\"dataframe\">\n",
       "  <thead>\n",
       "    <tr style=\"text-align: right;\">\n",
       "      <th></th>\n",
       "      <th>OPEN</th>\n",
       "      <th>HIGH</th>\n",
       "      <th>LOW</th>\n",
       "      <th>CLOSE</th>\n",
       "    </tr>\n",
       "    <tr>\n",
       "      <th>DATE</th>\n",
       "      <th></th>\n",
       "      <th></th>\n",
       "      <th></th>\n",
       "      <th></th>\n",
       "    </tr>\n",
       "  </thead>\n",
       "  <tbody>\n",
       "    <tr>\n",
       "      <th>1990-01-02</th>\n",
       "      <td>17.24</td>\n",
       "      <td>17.24</td>\n",
       "      <td>17.24</td>\n",
       "      <td>17.24</td>\n",
       "    </tr>\n",
       "    <tr>\n",
       "      <th>1990-01-03</th>\n",
       "      <td>18.19</td>\n",
       "      <td>18.19</td>\n",
       "      <td>18.19</td>\n",
       "      <td>18.19</td>\n",
       "    </tr>\n",
       "    <tr>\n",
       "      <th>1990-01-04</th>\n",
       "      <td>19.22</td>\n",
       "      <td>19.22</td>\n",
       "      <td>19.22</td>\n",
       "      <td>19.22</td>\n",
       "    </tr>\n",
       "    <tr>\n",
       "      <th>1990-01-05</th>\n",
       "      <td>20.11</td>\n",
       "      <td>20.11</td>\n",
       "      <td>20.11</td>\n",
       "      <td>20.11</td>\n",
       "    </tr>\n",
       "    <tr>\n",
       "      <th>1990-01-08</th>\n",
       "      <td>20.26</td>\n",
       "      <td>20.26</td>\n",
       "      <td>20.26</td>\n",
       "      <td>20.26</td>\n",
       "    </tr>\n",
       "    <tr>\n",
       "      <th>...</th>\n",
       "      <td>...</td>\n",
       "      <td>...</td>\n",
       "      <td>...</td>\n",
       "      <td>...</td>\n",
       "    </tr>\n",
       "    <tr>\n",
       "      <th>2022-05-03</th>\n",
       "      <td>31.76</td>\n",
       "      <td>32.82</td>\n",
       "      <td>29.06</td>\n",
       "      <td>29.25</td>\n",
       "    </tr>\n",
       "    <tr>\n",
       "      <th>2022-05-04</th>\n",
       "      <td>29.12</td>\n",
       "      <td>29.42</td>\n",
       "      <td>24.94</td>\n",
       "      <td>25.42</td>\n",
       "    </tr>\n",
       "    <tr>\n",
       "      <th>2022-05-05</th>\n",
       "      <td>25.97</td>\n",
       "      <td>33.20</td>\n",
       "      <td>25.78</td>\n",
       "      <td>31.20</td>\n",
       "    </tr>\n",
       "    <tr>\n",
       "      <th>2022-05-06</th>\n",
       "      <td>32.23</td>\n",
       "      <td>35.34</td>\n",
       "      <td>29.83</td>\n",
       "      <td>30.19</td>\n",
       "    </tr>\n",
       "    <tr>\n",
       "      <th>2022-05-09</th>\n",
       "      <td>31.90</td>\n",
       "      <td>35.48</td>\n",
       "      <td>31.90</td>\n",
       "      <td>34.75</td>\n",
       "    </tr>\n",
       "  </tbody>\n",
       "</table>\n",
       "<p>8148 rows × 4 columns</p>\n",
       "</div>"
      ],
      "text/plain": [
       "             OPEN   HIGH    LOW  CLOSE\n",
       "DATE                                  \n",
       "1990-01-02  17.24  17.24  17.24  17.24\n",
       "1990-01-03  18.19  18.19  18.19  18.19\n",
       "1990-01-04  19.22  19.22  19.22  19.22\n",
       "1990-01-05  20.11  20.11  20.11  20.11\n",
       "1990-01-08  20.26  20.26  20.26  20.26\n",
       "...           ...    ...    ...    ...\n",
       "2022-05-03  31.76  32.82  29.06  29.25\n",
       "2022-05-04  29.12  29.42  24.94  25.42\n",
       "2022-05-05  25.97  33.20  25.78  31.20\n",
       "2022-05-06  32.23  35.34  29.83  30.19\n",
       "2022-05-09  31.90  35.48  31.90  34.75\n",
       "\n",
       "[8148 rows x 4 columns]"
      ]
     },
     "execution_count": 150,
     "metadata": {},
     "output_type": "execute_result"
    }
   ],
   "source": [
    "path = Path('VIX_History.csv')\n",
    "vix_df = pd.read_csv(path, index_col = 'DATE', parse_dates = True, infer_datetime_format = True)\n",
    "vix_df"
   ]
  },
  {
   "cell_type": "code",
   "execution_count": null,
   "id": "e3f729a5-82b3-4f5b-bfe4-de3e87f04a62",
   "metadata": {},
   "outputs": [],
   "source": []
  },
  {
   "cell_type": "code",
   "execution_count": 156,
   "id": "51585ee9-1a9f-44d8-af2d-93d02d4720d7",
   "metadata": {},
   "outputs": [],
   "source": [
    "vix_dates = pd.DataFrame(vix_df.loc['2017-01-01':'2022-05-04'].iloc[:,3])\n",
    "vix_dates\n",
    "dates_FOMC_df = pd.DataFrame(dates_FOMC)\n",
    "\n",
    "\n",
    "# for date in dates_FOMC:\n",
    "#     dates_FOMC.index(\n",
    "    "
   ]
  },
  {
   "cell_type": "code",
   "execution_count": 160,
   "id": "c19579b7-f098-410d-8dd6-715e4092b34b",
   "metadata": {},
   "outputs": [
    {
     "ename": "NameError",
     "evalue": "name 'getIndexes' is not defined",
     "output_type": "error",
     "traceback": [
      "\u001b[1;31m---------------------------------------------------------------------------\u001b[0m",
      "\u001b[1;31mNameError\u001b[0m                                 Traceback (most recent call last)",
      "Input \u001b[1;32mIn [160]\u001b[0m, in \u001b[0;36m<cell line: 2>\u001b[1;34m()\u001b[0m\n\u001b[0;32m      1\u001b[0m \u001b[38;5;66;03m#vix_dates[vix_dates.loc['DATE']=='2017-02-01']\u001b[39;00m\n\u001b[1;32m----> 2\u001b[0m index \u001b[38;5;241m=\u001b[39m \u001b[43mgetIndexes\u001b[49m(vix_dates, \u001b[38;5;124m'\u001b[39m\u001b[38;5;124m2017-02-01\u001b[39m\u001b[38;5;124m'\u001b[39m)\n\u001b[0;32m      3\u001b[0m index\n",
      "\u001b[1;31mNameError\u001b[0m: name 'getIndexes' is not defined"
     ]
    }
   ],
   "source": [
    "#vix_dates[vix_dates.loc['DATE']=='2017-02-01']\n",
    "index = getIndexes(vix_dates, '2017-02-01')\n",
    "index"
   ]
  },
  {
   "cell_type": "code",
   "execution_count": null,
   "id": "b87196c9-1c7c-45e3-9c83-5f88f94238b5",
   "metadata": {},
   "outputs": [],
   "source": [
    "vix_change = []\n",
    "for date in dates_FOMC:\n",
    "    change = (vix_df.iloc[:,0].loc[date] - vix_df.iloc[:,3].loc[date])/vix_df.iloc[:,0].loc[date]\n",
    "    vix_change.append(change)\n",
    "    \n",
    "vix_change"
   ]
  },
  {
   "cell_type": "code",
   "execution_count": null,
   "id": "44cefb06-fd9f-4bde-8850-89294945480b",
   "metadata": {},
   "outputs": [],
   "source": [
    "vix_change_df = pd.DataFrame(vix_change, )\n",
    "vix_change_df"
   ]
  },
  {
   "cell_type": "code",
   "execution_count": null,
   "id": "2475aed3-4be1-4442-9055-35c27ec60c34",
   "metadata": {},
   "outputs": [],
   "source": [
    "test = (vix_change_df.iloc[:,0] + 1).cumprod()\n",
    "test_df = pd.DataFrame(test)\n",
    "test_df.rename(columns = {0:'Cumulative return'}, inplace = True)\n",
    "test_df\n",
    "test_df['Date'] = dates_FOMC\n",
    "test_df.set_index('Date', inplace = True)\n",
    "test_df"
   ]
  },
  {
   "cell_type": "code",
   "execution_count": null,
   "id": "d5be8ac5-329a-4f94-bfd5-4ee5d42aaa66",
   "metadata": {},
   "outputs": [],
   "source": [
    "test_df.hvplot()*vix_dates.hvplot()"
   ]
  },
  {
   "cell_type": "code",
   "execution_count": null,
   "id": "a4588522-5e20-40cf-9d38-70b501e3cd50",
   "metadata": {},
   "outputs": [],
   "source": []
  }
 ],
 "metadata": {
  "kernelspec": {
   "display_name": "Python 3 (ipykernel)",
   "language": "python",
   "name": "python3"
  },
  "language_info": {
   "codemirror_mode": {
    "name": "ipython",
    "version": 3
   },
   "file_extension": ".py",
   "mimetype": "text/x-python",
   "name": "python",
   "nbconvert_exporter": "python",
   "pygments_lexer": "ipython3",
   "version": "3.9.7"
  }
 },
 "nbformat": 4,
 "nbformat_minor": 5
}
